{
 "cells": [
  {
   "cell_type": "code",
   "execution_count": 1,
   "metadata": {},
   "outputs": [
    {
     "name": "stdout",
     "output_type": "stream",
     "text": [
      "Requirement already satisfied: numpy in d:\\programming\\data analyst\\projects\\amazon sales\\.venv\\lib\\site-packages (2.2.4)\n",
      "Requirement already satisfied: matplotlib in d:\\programming\\data analyst\\projects\\amazon sales\\.venv\\lib\\site-packages (3.10.1)\n",
      "Requirement already satisfied: pandas in d:\\programming\\data analyst\\projects\\amazon sales\\.venv\\lib\\site-packages (2.2.3)\n",
      "Requirement already satisfied: contourpy>=1.0.1 in d:\\programming\\data analyst\\projects\\amazon sales\\.venv\\lib\\site-packages (from matplotlib) (1.3.1)\n",
      "Requirement already satisfied: cycler>=0.10 in d:\\programming\\data analyst\\projects\\amazon sales\\.venv\\lib\\site-packages (from matplotlib) (0.12.1)\n",
      "Requirement already satisfied: fonttools>=4.22.0 in d:\\programming\\data analyst\\projects\\amazon sales\\.venv\\lib\\site-packages (from matplotlib) (4.56.0)\n",
      "Requirement already satisfied: kiwisolver>=1.3.1 in d:\\programming\\data analyst\\projects\\amazon sales\\.venv\\lib\\site-packages (from matplotlib) (1.4.8)\n",
      "Requirement already satisfied: packaging>=20.0 in d:\\programming\\data analyst\\projects\\amazon sales\\.venv\\lib\\site-packages (from matplotlib) (24.2)\n",
      "Requirement already satisfied: pillow>=8 in d:\\programming\\data analyst\\projects\\amazon sales\\.venv\\lib\\site-packages (from matplotlib) (11.1.0)\n",
      "Requirement already satisfied: pyparsing>=2.3.1 in d:\\programming\\data analyst\\projects\\amazon sales\\.venv\\lib\\site-packages (from matplotlib) (3.2.2)\n",
      "Requirement already satisfied: python-dateutil>=2.7 in d:\\programming\\data analyst\\projects\\amazon sales\\.venv\\lib\\site-packages (from matplotlib) (2.9.0.post0)\n",
      "Requirement already satisfied: pytz>=2020.1 in d:\\programming\\data analyst\\projects\\amazon sales\\.venv\\lib\\site-packages (from pandas) (2025.1)\n",
      "Requirement already satisfied: tzdata>=2022.7 in d:\\programming\\data analyst\\projects\\amazon sales\\.venv\\lib\\site-packages (from pandas) (2025.2)\n",
      "Requirement already satisfied: six>=1.5 in d:\\programming\\data analyst\\projects\\amazon sales\\.venv\\lib\\site-packages (from python-dateutil>=2.7->matplotlib) (1.17.0)\n",
      "Note: you may need to restart the kernel to use updated packages.\n"
     ]
    }
   ],
   "source": [
    "%pip install numpy matplotlib pandas"
   ]
  },
  {
   "cell_type": "markdown",
   "metadata": {},
   "source": [
    "Importing Libraries"
   ]
  },
  {
   "cell_type": "code",
   "execution_count": 2,
   "metadata": {},
   "outputs": [],
   "source": [
    "import numpy as np\n",
    "import matplotlib.pyplot as plt\n",
    "import pandas as pd"
   ]
  },
  {
   "cell_type": "markdown",
   "metadata": {},
   "source": [
    "Loading the dataset"
   ]
  },
  {
   "cell_type": "code",
   "execution_count": 3,
   "metadata": {},
   "outputs": [
    {
     "data": {
      "application/vnd.microsoft.datawrangler.viewer.v0+json": {
       "columns": [
        {
         "name": "index",
         "rawType": "int64",
         "type": "integer"
        },
        {
         "name": "product_id",
         "rawType": "object",
         "type": "string"
        },
        {
         "name": "product_name",
         "rawType": "object",
         "type": "string"
        },
        {
         "name": "category",
         "rawType": "object",
         "type": "string"
        },
        {
         "name": "rating",
         "rawType": "float64",
         "type": "float"
        },
        {
         "name": "about_product",
         "rawType": "object",
         "type": "string"
        },
        {
         "name": "user_id",
         "rawType": "object",
         "type": "string"
        },
        {
         "name": "user_name",
         "rawType": "object",
         "type": "string"
        },
        {
         "name": "review_id",
         "rawType": "object",
         "type": "string"
        },
        {
         "name": "review_title",
         "rawType": "object",
         "type": "string"
        },
        {
         "name": "review_content",
         "rawType": "object",
         "type": "string"
        },
        {
         "name": "img_link",
         "rawType": "object",
         "type": "string"
        },
        {
         "name": "product_link",
         "rawType": "object",
         "type": "string"
        }
       ],
       "conversionMethod": "pd.DataFrame",
       "ref": "f3f4da34-51fe-4ecd-a64e-8a0e7192d800",
       "rows": [
        [
         "0",
         "B07JW9H4J1",
         "Wayona Nylon Braided USB to Lightning Fast Charging and Data Sync Cable Compatible for iPhone 13, 12,11, X, 8, 7, 6, 5, iPad Air, Pro, Mini (3 FT Pack of 1, Grey)",
         "Computers&Accessories|Accessories&Peripherals|Cables&Accessories|Cables|USBCables",
         "4.2",
         "High Compatibility : Compatible With iPhone 12, 11, X/XsMax/Xr ,iPhone 8/8 Plus,iPhone 7/7 Plus,iPhone 6s/6s Plus,iPhone 6/6 Plus,iPhone 5/5s/5c/se,iPad Pro,iPad Air 1/2,iPad mini 1/2/3,iPod nano7,iPod touch and more apple devices.|Fast Charge&Data Sync : It can charge and sync simultaneously at a rapid speed, Compatible with any charging adaptor, multi-port charging station or power bank.|Durability : Durable nylon braided design with premium aluminum housing and toughened nylon fiber wound tightly around the cord lending it superior durability and adding a bit to its flexibility.|High Security Level : It is designed to fully protect your device from damaging excessive current.Copper core thick+Multilayer shielding, Anti-interference, Protective circuit equipment.|WARRANTY: 12 months warranty and friendly customer services, ensures the long-time enjoyment of your purchase. If you meet any question or problem, please don't hesitate to contact us.",
         "AG3D6O4STAQKAY2UVGEUV46KN35Q,AHMY5CWJMMK5BJRBBSNLYT3ONILA,AHCTC6ULH4XB6YHDY6PCH2R772LQ,AGYHHIERNXKA6P5T7CZLXKVPT7IQ,AG4OGOFWXJZTQ2HKYIOCOY3KXF2Q,AENGU523SXMOS7JPDTW52PNNVWGQ,AEQJHCVTNINBS4FKTBGQRQTGTE5Q,AFC3FFC5PKFF5PMA52S3VCHOZ5FQ",
         "Manav,Adarsh gupta,Sundeep,S.Sayeed Ahmed,jaspreet singh,Khaja moin,Anand,S.ARUMUGAM",
         "R3HXWT0LRP0NMF,R2AJM3LFTLZHFO,R6AQJGUP6P86,R1KD19VHEDV0OR,R3C02RMYQMK6FC,R39GQRVBUZBWGY,R2K9EDOE15QIRJ,R3OI7YT648TL8I",
         "Satisfied,Charging is really fast,Value for money,Product review,Good quality,Good product,Good Product,As of now seems good",
         "Looks durable Charging is fine tooNo complains,Charging is really fast, good product.,Till now satisfied with the quality.,This is a good product . The charging speed is slower than the original iPhone cable,Good quality, would recommend,https://m.media-amazon.com/images/W/WEBP_402378-T1/images/I/81---F1ZgHL._SY88.jpg,Product had worked well till date and was having no issue.Cable is also sturdy enough...Have asked for replacement and company is doing the same...,Value for money",
         "https://m.media-amazon.com/images/W/WEBP_402378-T1/images/I/51UsScvHQNL._SX300_SY300_QL70_FMwebp_.jpg",
         "https://www.amazon.in/Wayona-Braided-WN3LG1-Syncing-Charging/dp/B07JW9H4J1/ref=sr_1_1?qid=1672909124&s=electronics&sr=1-1"
        ],
        [
         "1",
         "B098NS6PVG",
         "Ambrane Unbreakable 60W / 3A Fast Charging 1.5m Braided Type C Cable for Smartphones, Tablets, Laptops & other Type C devices, PD Technology, 480Mbps Data Sync, Quick Charge 3.0 (RCT15A, Black)",
         "Computers&Accessories|Accessories&Peripherals|Cables&Accessories|Cables|USBCables",
         "4.0",
         "Compatible with all Type C enabled devices, be it an android smartphone (Mi, Samsung, Oppo, Vivo, Realme, OnePlus, etc), tablet, laptop (Macbook, Chromebook, etc)|Supports Quick Charging (2.0/3.0)|Unbreakable – Made of special braided outer with rugged interior bindings, it is ultra-durable cable that won’t be affected by daily rough usage|Ideal Length – It has ideal length of 1.5 meters which is neither too short like your typical 1meter cable or too long like a 2meters cable|Supports maximum 3A fast charging and 480 Mbps data transfer speed|6 months manufacturer warranty from the date of purchase",
         "AECPFYFQVRUWC3KGNLJIOREFP5LQ,AGYYVPDD7YG7FYNBXNGXZJT525AQ,AHONIZU3ICIEHQIGQ6R2VFRSBXOQ,AFPHD2CRPDZMWMBL7WXRSVYWS5JA,AEZ346GX3HJ4O4XNRPHCNHXQURMQ,AEPSWFPNECKO34PUC7I56ITGXR6Q,AHWVEHR5DYLVFTO2KF3IZATFQSWQ,AH4QT33M55677I7ISQOAKEQWACYQ",
         "ArdKn,Nirbhay kumar,Sagar Viswanathan,Asp,Placeholder,BharanI,sonia,Niam",
         "RGIQEG07R9HS2,R1SMWZQ86XIN8U,R2J3Y1WL29GWDE,RYGGS0M09S3KY,R17KQRUTAN5DKS,R3AAQGS6HP2QUK,R1HDNOG6TO2CCA,R3PHKXYA5AFEOU",
         "A Good Braided Cable for Your Type C Device,Good quality product from ambrane,Super cable,As,Good quality,Good product,its good,Good quality for the price but one issue with my unit",
         "I ordered this cable to connect my phone to Android Auto of car. The cable is really strong and the connection ports are really well made. I already has a Micro USB cable from Ambrane and it's still in good shape. I connected my phone to the car using the cable and it got connected well and no issues. I also connected it to the charging port and yes it has Fast Charging support.,It quality is good at this price and the main thing is that i didn't ever thought that this cable will be so long it's good one and charging power is too good and also supports fast charging,Value for money, with extra length👍,Good, working fine,Product quality is good,Good,very good,Bought for my daughter's old phone.Brand new cable it was not charging, I already repacked and requested for replacement.I checked again, and there was some green colour paste/fungus inside the micro USB connector. I cleaned with an alcoholic and starts working again.Checked the ampere of charging speed got around 1400ma-1500ma - not bad, came with braided 1.5m long cable, pretty impressive for the price.Can't blame the manufacturer.But quality issues by the distributor, they might have stored in very humid place.",
         "https://m.media-amazon.com/images/W/WEBP_402378-T2/images/I/31zOsqQOAOL._SY445_SX342_QL70_FMwebp_.jpg",
         "https://www.amazon.in/Ambrane-Unbreakable-Charging-Braided-Cable/dp/B098NS6PVG/ref=sr_1_2?qid=1672909124&s=electronics&sr=1-2"
        ],
        [
         "2",
         "B096MSW6CT",
         "Sounce Fast Phone Charging Cable & Data Sync USB Cable Compatible for iPhone 13, 12,11, X, 8, 7, 6, 5, iPad Air, Pro, Mini & iOS Devices",
         "Computers&Accessories|Accessories&Peripherals|Cables&Accessories|Cables|USBCables",
         "3.9",
         "【 Fast Charger& Data Sync】-With built-in safety proctections and four-core copper wires promote maximum signal quality and strength and enhance charging & data transfer speed with up to 480 mb/s transferring speed.|【 Compatibility】-Compatible with iPhone 13, 12,11, X, 8, 7, 6, 5, iPad Air, Pro, Mini & iOS devices.|【 Sturdy & Durable】-The jacket and enforced connector made of TPE and premium copper, are resistant to repeatedly bending and coiling.|【 Ultra High Quality】: According to the experimental results, the fishbone design can accept at least 20,000 bending and insertion tests for extra protection and durability. Upgraded 3D aluminum connector and exclusive laser welding technology, which to ensure the metal part won't break and also have a tighter connection which fits well even with a protective case on and will never loose connection.|【 Good After Sales Service】-Our friendly and reliable customer service will respond to you within 24 hours ! you can purchase with confidence,and every sale includes a 365-day worry-free Service to prove the importance we set on quality.",
         "AGU3BBQ2V2DDAMOAKGFAWDDQ6QHA,AESFLDV2PT363T2AQLWQOWZ4N3OA,AHTPQRIMGUD4BYR5YIHBH3CCGEFQ,AEUVWXYP5LT7PZLLZENEO2NODPBQ,AHC7MPW55DOO6WNCOQVA2VHOD26A,AFDI6FRPFBTNBG7BAEB7JDJSMKDQ,AFQKCEEEKXCOHTDG4WUN3XPPHJQQ,AHKUUFNMBZIDLSSPA4FEHIO2EC7Q",
         "Kunal,Himanshu,viswanath,sai niharka,saqib malik,Aashiq,Ramu Challa,Sanjay gupta",
         "R3J3EQQ9TZI5ZJ,R3E7WBGK7ID0KV,RWU79XKQ6I1QF,R25X4TBMPY91LX,R27OK7G99VK0TR,R207CYDCHJJTCJ,R3PCU8XMU173BT,R1IMONDOWRNU5V",
         "Good speed for earlier versions,Good Product,Working good,Good for the price,Good,Worth for money,Working nice,it's a really nice product",
         "Not quite durable and sturdy,https://m.media-amazon.com/images/W/WEBP_402378-T1/images/I/71rIggrbUCL._SY88.jpg,Working good,https://m.media-amazon.com/images/W/WEBP_402378-T1/images/I/61bKp9YO6wL._SY88.jpg,Product,Very nice product,Working well,It's a really nice product",
         "https://m.media-amazon.com/images/W/WEBP_402378-T1/images/I/31IvNJZnmdL._SY445_SX342_QL70_FMwebp_.jpg",
         "https://www.amazon.in/Sounce-iPhone-Charging-Compatible-Devices/dp/B096MSW6CT/ref=sr_1_3?qid=1672909124&s=electronics&sr=1-3"
        ],
        [
         "3",
         "B08HDJ86NZ",
         "boAt Deuce USB 300 2 in 1 Type-C & Micro USB Stress Resistant, Tangle-Free, Sturdy Cable with 3A Fast Charging & 480mbps Data Transmission, 10000+ Bends Lifespan and Extended 1.5m Length(Martian Red)",
         "Computers&Accessories|Accessories&Peripherals|Cables&Accessories|Cables|USBCables",
         "4.2",
         "The boAt Deuce USB 300 2 in 1 cable is compatible with smartphones, tablets, PC peripherals, Bluetooth speakers, power banks and all other devices with Type-C as well as Micro USB port|It ensures 3A fast charging and data transmissions with rapid sync at 480 mbps|The premium Nylon braided skin makes it sturdy and invincible against external damage|Its Aluminium alloy shell housing makes it last longer with 10000+ Bends Lifespan with extended frame protection for strain relief|The resilient and flexible design offers a tangle free experience seamlessly|Deuce USB 300 cable offers a perfect 1.5 meters in length for smooth & hassle-free user experience|2 years warranty from the date of purchase",
         "AEWAZDZZJLQUYVOVGBEUKSLXHQ5A,AG5HTSFRRE6NL3M5SGCUQBP7YSCA,AH725ST5NW2Y4JZPKUNTIJCUK2BA,AHV3TXIFCJPMS4D5JATCEUR266MQ,AGWIGDEMFIIUAOXYY2QATNBSUGHA,AFSTSLQUV4EVEXWKBOLEFHL2H5YQ,AGAKDNBHY2FKX7I4ACRGILU7QL7A,AFNWJUWJRHCC6HN52KMG5AKZY37Q",
         "Omkar dhale,JD,HEMALATHA,Ajwadh a.,amar singh chouhan,Ravi Siddan,Himanshu Goel,Udaykumar",
         "R3EEUZKKK9J36I,R3HJVYCLYOY554,REDECAZ7AMPQC,R1CLH2ULIVG5U3,R2DMKIBGFKBD6R,RC89B5IAJUTR5,R3B3DDON5FH8DS,R13WAEJDI5RS36",
         "Good product,Good one,Nice,Really nice product,Very first time change,Good,Fine product but could be better,Very nice it's charging like jet",
         "Good product,long wire,Charges good,Nice,I bought this cable for Rs.339 worthy product for this price, i tested it in various charger adapters 33w and 18w it supports fast charging as well.,Good,Ok,I had got this at good price on sale on Amazon and product is useful with warranty but for warranty you need to go very far not practical for such a cost and mine micro to type c connector stopped working after few days only.,I like this product",
         "https://m.media-amazon.com/images/I/41V5FtEWPkL._SX300_SY300_QL70_FMwebp_.jpg",
         "https://www.amazon.in/Deuce-300-Resistant-Tangle-Free-Transmission/dp/B08HDJ86NZ/ref=sr_1_4?qid=1672909124&s=electronics&sr=1-4"
        ],
        [
         "4",
         "B08CF3B7N1",
         "Portronics Konnect L 1.2M Fast Charging 3A 8 Pin USB Cable with Charge & Sync Function for iPhone, iPad (Grey)",
         "Computers&Accessories|Accessories&Peripherals|Cables&Accessories|Cables|USBCables",
         "4.2",
         "[CHARGE & SYNC FUNCTION]- This cable comes with charging & Data sync function|[HIGH QUALITY MATERIAL]- TPE + Nylon Material to make sure that the life of the cable is enhanced significantly|[LONG CORD]- The Cable is extra thick 1.2 meter long, optimized for an easy use for your comfort at home or office|[MORE DURABLE]-This cable is unique interms of design and multi-use and is positioned to provide the best comfort and performance while using|[UNIVERSAL COMPATIBILITY]- Compatible with all devices like iPhone XS, X, XR, 8, 7, 6S, 6, 5S, iPad Pro, iPad mini and iPad Air",
         "AE3Q6KSUK5P75D5HFYHCRAOLODSA,AFUGIFH5ZAFXRDSZHM4QB2KPKFUQ,AFK4NJOLFSJGWLOJIUIAROJF6YVA,AFUOTYRFUXVPEBGIXVZZ7DR3CZUA,AFDLRSXKDZ6U3U3KD46SQLFGZQRA,AH5VLM66SIK7J3IRG4NY7XVOQ55A,AE3MQNNHHLUHXURL5S7IAR7JTGNQ,AFSEOFZY67MYC7UAJU264Z5NFTLA",
         "rahuls6099,Swasat Borah,Ajay Wadke,Pranali,RVK,Bhargav,Durai Vignesh,Amazon Customer",
         "R1BP4L2HH9TFUP,R16PVJEXKV6QZS,R2UPDB81N66T4P,R3KK4GT934ST3I,RCFHMWUSBIJO,RDO7DACXMAJ84,R3A6MEZL3LY66Z,R1ESIEKPGAYA29",
         "As good as original,Decent,Good one for secondary use,Best quality,GOOD,Amazing product at a mind blowing price!,Nice Quality,Good product",
         "Bought this instead of original apple, does the work for 150rs, not as fast as apple charger but its a good option if you want cheap and good product, bought it for iPad pro 10.5 and it's working flawlessly, build quality is ok, its not like i am gonna hang my clothes on it and i want a very strong cable, even a braided cable stop working after a year, i have used both Anker and Apple store strong braided cable they all stop working after a year so please don't buy high end cables just for that instead choose a this one and even if it's stops working withing a year you only loose 150rs compares to 2000rs.UPDATE------------------------------------pin has stopped charging from one side, now i have to slip the pin to charge from other side, but i will update and let know for how long does it work,,It’s good. Not sure about durability as the pin area feels a bit fragile,Does not support apple carplaySo was little disappointed about thatOther than that cable is made up of very good quality,Best to buy,100% NOT FATHFUL,Writing this review post 10 months and 3 orders of the same product.Honestly Portronics Konnect L lightning cable works like magic with the original Apple charging brick.Seeing the price of the cable I initially hesitated buying as it was as low as ₹99/- with the offers and so I wasn’t sure if it would work well with my iPhone 12 or whether it would impact my iPhone’s battery health because all the other lightning cable brands were costing over ₹350/- like Wayona, Amazon Basics, etc.Earlier I was using Wayona Brand lightning cable with eventually frayed and stopped working.Charging Speed:Charges my iPhone fast enough almost similar compared to the original cable level when used with 12W Original Apple power adapter.Quality and Durability:Great quality braided cable and doesn’t tangle easily and can withstand day-to-day usage.L-Shaped pin:This is very innovative by Portronics and it makes sure the cable doesn’t get damaged even if used while charging.CarPlay and Data Sync:Works smoothly with CarPlay and syncs data effortlessly.PS: I have used this cable only with the Original Apple Charging Brick and extremely satisfied with its performance.,Better than I expect the product I like that Quality and I plan to buy same type cable come with usb C to Lighting cable for emergency purpose that much I love this cable. Buy for this cable only emergency uses only since Good one,Good product and value for money",
         "https://m.media-amazon.com/images/W/WEBP_402378-T2/images/I/31VzNhhqifL._SX300_SY300_QL70_FMwebp_.jpg",
         "https://www.amazon.in/Portronics-Konnect-POR-1080-Charging-Function/dp/B08CF3B7N1/ref=sr_1_5?qid=1672909124&s=electronics&sr=1-5"
        ]
       ],
       "shape": {
        "columns": 12,
        "rows": 5
       }
      },
      "text/html": [
       "<div>\n",
       "<style scoped>\n",
       "    .dataframe tbody tr th:only-of-type {\n",
       "        vertical-align: middle;\n",
       "    }\n",
       "\n",
       "    .dataframe tbody tr th {\n",
       "        vertical-align: top;\n",
       "    }\n",
       "\n",
       "    .dataframe thead th {\n",
       "        text-align: right;\n",
       "    }\n",
       "</style>\n",
       "<table border=\"1\" class=\"dataframe\">\n",
       "  <thead>\n",
       "    <tr style=\"text-align: right;\">\n",
       "      <th></th>\n",
       "      <th>product_id</th>\n",
       "      <th>product_name</th>\n",
       "      <th>category</th>\n",
       "      <th>rating</th>\n",
       "      <th>about_product</th>\n",
       "      <th>user_id</th>\n",
       "      <th>user_name</th>\n",
       "      <th>review_id</th>\n",
       "      <th>review_title</th>\n",
       "      <th>review_content</th>\n",
       "      <th>img_link</th>\n",
       "      <th>product_link</th>\n",
       "    </tr>\n",
       "  </thead>\n",
       "  <tbody>\n",
       "    <tr>\n",
       "      <th>0</th>\n",
       "      <td>B07JW9H4J1</td>\n",
       "      <td>Wayona Nylon Braided USB to Lightning Fast Cha...</td>\n",
       "      <td>Computers&amp;Accessories|Accessories&amp;Peripherals|...</td>\n",
       "      <td>4.2</td>\n",
       "      <td>High Compatibility : Compatible With iPhone 12...</td>\n",
       "      <td>AG3D6O4STAQKAY2UVGEUV46KN35Q,AHMY5CWJMMK5BJRBB...</td>\n",
       "      <td>Manav,Adarsh gupta,Sundeep,S.Sayeed Ahmed,jasp...</td>\n",
       "      <td>R3HXWT0LRP0NMF,R2AJM3LFTLZHFO,R6AQJGUP6P86,R1K...</td>\n",
       "      <td>Satisfied,Charging is really fast,Value for mo...</td>\n",
       "      <td>Looks durable Charging is fine tooNo complains...</td>\n",
       "      <td>https://m.media-amazon.com/images/W/WEBP_40237...</td>\n",
       "      <td>https://www.amazon.in/Wayona-Braided-WN3LG1-Sy...</td>\n",
       "    </tr>\n",
       "    <tr>\n",
       "      <th>1</th>\n",
       "      <td>B098NS6PVG</td>\n",
       "      <td>Ambrane Unbreakable 60W / 3A Fast Charging 1.5...</td>\n",
       "      <td>Computers&amp;Accessories|Accessories&amp;Peripherals|...</td>\n",
       "      <td>4.0</td>\n",
       "      <td>Compatible with all Type C enabled devices, be...</td>\n",
       "      <td>AECPFYFQVRUWC3KGNLJIOREFP5LQ,AGYYVPDD7YG7FYNBX...</td>\n",
       "      <td>ArdKn,Nirbhay kumar,Sagar Viswanathan,Asp,Plac...</td>\n",
       "      <td>RGIQEG07R9HS2,R1SMWZQ86XIN8U,R2J3Y1WL29GWDE,RY...</td>\n",
       "      <td>A Good Braided Cable for Your Type C Device,Go...</td>\n",
       "      <td>I ordered this cable to connect my phone to An...</td>\n",
       "      <td>https://m.media-amazon.com/images/W/WEBP_40237...</td>\n",
       "      <td>https://www.amazon.in/Ambrane-Unbreakable-Char...</td>\n",
       "    </tr>\n",
       "    <tr>\n",
       "      <th>2</th>\n",
       "      <td>B096MSW6CT</td>\n",
       "      <td>Sounce Fast Phone Charging Cable &amp; Data Sync U...</td>\n",
       "      <td>Computers&amp;Accessories|Accessories&amp;Peripherals|...</td>\n",
       "      <td>3.9</td>\n",
       "      <td>【 Fast Charger&amp; Data Sync】-With built-in safet...</td>\n",
       "      <td>AGU3BBQ2V2DDAMOAKGFAWDDQ6QHA,AESFLDV2PT363T2AQ...</td>\n",
       "      <td>Kunal,Himanshu,viswanath,sai niharka,saqib mal...</td>\n",
       "      <td>R3J3EQQ9TZI5ZJ,R3E7WBGK7ID0KV,RWU79XKQ6I1QF,R2...</td>\n",
       "      <td>Good speed for earlier versions,Good Product,W...</td>\n",
       "      <td>Not quite durable and sturdy,https://m.media-a...</td>\n",
       "      <td>https://m.media-amazon.com/images/W/WEBP_40237...</td>\n",
       "      <td>https://www.amazon.in/Sounce-iPhone-Charging-C...</td>\n",
       "    </tr>\n",
       "    <tr>\n",
       "      <th>3</th>\n",
       "      <td>B08HDJ86NZ</td>\n",
       "      <td>boAt Deuce USB 300 2 in 1 Type-C &amp; Micro USB S...</td>\n",
       "      <td>Computers&amp;Accessories|Accessories&amp;Peripherals|...</td>\n",
       "      <td>4.2</td>\n",
       "      <td>The boAt Deuce USB 300 2 in 1 cable is compati...</td>\n",
       "      <td>AEWAZDZZJLQUYVOVGBEUKSLXHQ5A,AG5HTSFRRE6NL3M5S...</td>\n",
       "      <td>Omkar dhale,JD,HEMALATHA,Ajwadh a.,amar singh ...</td>\n",
       "      <td>R3EEUZKKK9J36I,R3HJVYCLYOY554,REDECAZ7AMPQC,R1...</td>\n",
       "      <td>Good product,Good one,Nice,Really nice product...</td>\n",
       "      <td>Good product,long wire,Charges good,Nice,I bou...</td>\n",
       "      <td>https://m.media-amazon.com/images/I/41V5FtEWPk...</td>\n",
       "      <td>https://www.amazon.in/Deuce-300-Resistant-Tang...</td>\n",
       "    </tr>\n",
       "    <tr>\n",
       "      <th>4</th>\n",
       "      <td>B08CF3B7N1</td>\n",
       "      <td>Portronics Konnect L 1.2M Fast Charging 3A 8 P...</td>\n",
       "      <td>Computers&amp;Accessories|Accessories&amp;Peripherals|...</td>\n",
       "      <td>4.2</td>\n",
       "      <td>[CHARGE &amp; SYNC FUNCTION]- This cable comes wit...</td>\n",
       "      <td>AE3Q6KSUK5P75D5HFYHCRAOLODSA,AFUGIFH5ZAFXRDSZH...</td>\n",
       "      <td>rahuls6099,Swasat Borah,Ajay Wadke,Pranali,RVK...</td>\n",
       "      <td>R1BP4L2HH9TFUP,R16PVJEXKV6QZS,R2UPDB81N66T4P,R...</td>\n",
       "      <td>As good as original,Decent,Good one for second...</td>\n",
       "      <td>Bought this instead of original apple, does th...</td>\n",
       "      <td>https://m.media-amazon.com/images/W/WEBP_40237...</td>\n",
       "      <td>https://www.amazon.in/Portronics-Konnect-POR-1...</td>\n",
       "    </tr>\n",
       "  </tbody>\n",
       "</table>\n",
       "</div>"
      ],
      "text/plain": [
       "   product_id                                       product_name  \\\n",
       "0  B07JW9H4J1  Wayona Nylon Braided USB to Lightning Fast Cha...   \n",
       "1  B098NS6PVG  Ambrane Unbreakable 60W / 3A Fast Charging 1.5...   \n",
       "2  B096MSW6CT  Sounce Fast Phone Charging Cable & Data Sync U...   \n",
       "3  B08HDJ86NZ  boAt Deuce USB 300 2 in 1 Type-C & Micro USB S...   \n",
       "4  B08CF3B7N1  Portronics Konnect L 1.2M Fast Charging 3A 8 P...   \n",
       "\n",
       "                                            category  rating  \\\n",
       "0  Computers&Accessories|Accessories&Peripherals|...     4.2   \n",
       "1  Computers&Accessories|Accessories&Peripherals|...     4.0   \n",
       "2  Computers&Accessories|Accessories&Peripherals|...     3.9   \n",
       "3  Computers&Accessories|Accessories&Peripherals|...     4.2   \n",
       "4  Computers&Accessories|Accessories&Peripherals|...     4.2   \n",
       "\n",
       "                                       about_product  \\\n",
       "0  High Compatibility : Compatible With iPhone 12...   \n",
       "1  Compatible with all Type C enabled devices, be...   \n",
       "2  【 Fast Charger& Data Sync】-With built-in safet...   \n",
       "3  The boAt Deuce USB 300 2 in 1 cable is compati...   \n",
       "4  [CHARGE & SYNC FUNCTION]- This cable comes wit...   \n",
       "\n",
       "                                             user_id  \\\n",
       "0  AG3D6O4STAQKAY2UVGEUV46KN35Q,AHMY5CWJMMK5BJRBB...   \n",
       "1  AECPFYFQVRUWC3KGNLJIOREFP5LQ,AGYYVPDD7YG7FYNBX...   \n",
       "2  AGU3BBQ2V2DDAMOAKGFAWDDQ6QHA,AESFLDV2PT363T2AQ...   \n",
       "3  AEWAZDZZJLQUYVOVGBEUKSLXHQ5A,AG5HTSFRRE6NL3M5S...   \n",
       "4  AE3Q6KSUK5P75D5HFYHCRAOLODSA,AFUGIFH5ZAFXRDSZH...   \n",
       "\n",
       "                                           user_name  \\\n",
       "0  Manav,Adarsh gupta,Sundeep,S.Sayeed Ahmed,jasp...   \n",
       "1  ArdKn,Nirbhay kumar,Sagar Viswanathan,Asp,Plac...   \n",
       "2  Kunal,Himanshu,viswanath,sai niharka,saqib mal...   \n",
       "3  Omkar dhale,JD,HEMALATHA,Ajwadh a.,amar singh ...   \n",
       "4  rahuls6099,Swasat Borah,Ajay Wadke,Pranali,RVK...   \n",
       "\n",
       "                                           review_id  \\\n",
       "0  R3HXWT0LRP0NMF,R2AJM3LFTLZHFO,R6AQJGUP6P86,R1K...   \n",
       "1  RGIQEG07R9HS2,R1SMWZQ86XIN8U,R2J3Y1WL29GWDE,RY...   \n",
       "2  R3J3EQQ9TZI5ZJ,R3E7WBGK7ID0KV,RWU79XKQ6I1QF,R2...   \n",
       "3  R3EEUZKKK9J36I,R3HJVYCLYOY554,REDECAZ7AMPQC,R1...   \n",
       "4  R1BP4L2HH9TFUP,R16PVJEXKV6QZS,R2UPDB81N66T4P,R...   \n",
       "\n",
       "                                        review_title  \\\n",
       "0  Satisfied,Charging is really fast,Value for mo...   \n",
       "1  A Good Braided Cable for Your Type C Device,Go...   \n",
       "2  Good speed for earlier versions,Good Product,W...   \n",
       "3  Good product,Good one,Nice,Really nice product...   \n",
       "4  As good as original,Decent,Good one for second...   \n",
       "\n",
       "                                      review_content  \\\n",
       "0  Looks durable Charging is fine tooNo complains...   \n",
       "1  I ordered this cable to connect my phone to An...   \n",
       "2  Not quite durable and sturdy,https://m.media-a...   \n",
       "3  Good product,long wire,Charges good,Nice,I bou...   \n",
       "4  Bought this instead of original apple, does th...   \n",
       "\n",
       "                                            img_link  \\\n",
       "0  https://m.media-amazon.com/images/W/WEBP_40237...   \n",
       "1  https://m.media-amazon.com/images/W/WEBP_40237...   \n",
       "2  https://m.media-amazon.com/images/W/WEBP_40237...   \n",
       "3  https://m.media-amazon.com/images/I/41V5FtEWPk...   \n",
       "4  https://m.media-amazon.com/images/W/WEBP_40237...   \n",
       "\n",
       "                                        product_link  \n",
       "0  https://www.amazon.in/Wayona-Braided-WN3LG1-Sy...  \n",
       "1  https://www.amazon.in/Ambrane-Unbreakable-Char...  \n",
       "2  https://www.amazon.in/Sounce-iPhone-Charging-C...  \n",
       "3  https://www.amazon.in/Deuce-300-Resistant-Tang...  \n",
       "4  https://www.amazon.in/Portronics-Konnect-POR-1...  "
      ]
     },
     "execution_count": 3,
     "metadata": {},
     "output_type": "execute_result"
    }
   ],
   "source": [
    "df = pd.read_csv('dataset/cleaned/cleaned_amazon_sales.csv')\n",
    "df.head()"
   ]
  },
  {
   "cell_type": "markdown",
   "metadata": {},
   "source": [
    "Inspecting the Dataframe"
   ]
  },
  {
   "cell_type": "code",
   "execution_count": 4,
   "metadata": {},
   "outputs": [
    {
     "name": "stdout",
     "output_type": "stream",
     "text": [
      "<class 'pandas.core.frame.DataFrame'>\n",
      "RangeIndex: 1465 entries, 0 to 1464\n",
      "Data columns (total 12 columns):\n",
      " #   Column          Non-Null Count  Dtype  \n",
      "---  ------          --------------  -----  \n",
      " 0   product_id      1465 non-null   object \n",
      " 1   product_name    1465 non-null   object \n",
      " 2   category        1465 non-null   object \n",
      " 3   rating          1465 non-null   float64\n",
      " 4   about_product   1465 non-null   object \n",
      " 5   user_id         1465 non-null   object \n",
      " 6   user_name       1465 non-null   object \n",
      " 7   review_id       1465 non-null   object \n",
      " 8   review_title    1465 non-null   object \n",
      " 9   review_content  1465 non-null   object \n",
      " 10  img_link        1465 non-null   object \n",
      " 11  product_link    1465 non-null   object \n",
      "dtypes: float64(1), object(11)\n",
      "memory usage: 137.5+ KB\n"
     ]
    },
    {
     "data": {
      "application/vnd.microsoft.datawrangler.viewer.v0+json": {
       "columns": [
        {
         "name": "index",
         "rawType": "object",
         "type": "string"
        },
        {
         "name": "rating",
         "rawType": "float64",
         "type": "float"
        }
       ],
       "conversionMethod": "pd.DataFrame",
       "ref": "95a69557-aa28-47ed-9778-ac3e4742e862",
       "rows": [
        [
         "count",
         "1465.0"
        ],
        [
         "mean",
         "4.096584699453551"
        ],
        [
         "std",
         "0.2915744469711793"
        ],
        [
         "min",
         "2.0"
        ],
        [
         "25%",
         "4.0"
        ],
        [
         "50%",
         "4.1"
        ],
        [
         "75%",
         "4.3"
        ],
        [
         "max",
         "5.0"
        ]
       ],
       "shape": {
        "columns": 1,
        "rows": 8
       }
      },
      "text/html": [
       "<div>\n",
       "<style scoped>\n",
       "    .dataframe tbody tr th:only-of-type {\n",
       "        vertical-align: middle;\n",
       "    }\n",
       "\n",
       "    .dataframe tbody tr th {\n",
       "        vertical-align: top;\n",
       "    }\n",
       "\n",
       "    .dataframe thead th {\n",
       "        text-align: right;\n",
       "    }\n",
       "</style>\n",
       "<table border=\"1\" class=\"dataframe\">\n",
       "  <thead>\n",
       "    <tr style=\"text-align: right;\">\n",
       "      <th></th>\n",
       "      <th>rating</th>\n",
       "    </tr>\n",
       "  </thead>\n",
       "  <tbody>\n",
       "    <tr>\n",
       "      <th>count</th>\n",
       "      <td>1465.000000</td>\n",
       "    </tr>\n",
       "    <tr>\n",
       "      <th>mean</th>\n",
       "      <td>4.096585</td>\n",
       "    </tr>\n",
       "    <tr>\n",
       "      <th>std</th>\n",
       "      <td>0.291574</td>\n",
       "    </tr>\n",
       "    <tr>\n",
       "      <th>min</th>\n",
       "      <td>2.000000</td>\n",
       "    </tr>\n",
       "    <tr>\n",
       "      <th>25%</th>\n",
       "      <td>4.000000</td>\n",
       "    </tr>\n",
       "    <tr>\n",
       "      <th>50%</th>\n",
       "      <td>4.100000</td>\n",
       "    </tr>\n",
       "    <tr>\n",
       "      <th>75%</th>\n",
       "      <td>4.300000</td>\n",
       "    </tr>\n",
       "    <tr>\n",
       "      <th>max</th>\n",
       "      <td>5.000000</td>\n",
       "    </tr>\n",
       "  </tbody>\n",
       "</table>\n",
       "</div>"
      ],
      "text/plain": [
       "            rating\n",
       "count  1465.000000\n",
       "mean      4.096585\n",
       "std       0.291574\n",
       "min       2.000000\n",
       "25%       4.000000\n",
       "50%       4.100000\n",
       "75%       4.300000\n",
       "max       5.000000"
      ]
     },
     "execution_count": 4,
     "metadata": {},
     "output_type": "execute_result"
    }
   ],
   "source": [
    "df.info()\n",
    "df.describe()"
   ]
  },
  {
   "cell_type": "code",
   "execution_count": 5,
   "metadata": {},
   "outputs": [
    {
     "data": {
      "application/vnd.microsoft.datawrangler.viewer.v0+json": {
       "columns": [
        {
         "name": "index",
         "rawType": "object",
         "type": "string"
        },
        {
         "name": "product_id",
         "rawType": "object",
         "type": "unknown"
        },
        {
         "name": "product_name",
         "rawType": "object",
         "type": "unknown"
        },
        {
         "name": "category",
         "rawType": "object",
         "type": "unknown"
        },
        {
         "name": "about_product",
         "rawType": "object",
         "type": "unknown"
        },
        {
         "name": "user_id",
         "rawType": "object",
         "type": "unknown"
        },
        {
         "name": "user_name",
         "rawType": "object",
         "type": "unknown"
        },
        {
         "name": "review_id",
         "rawType": "object",
         "type": "unknown"
        },
        {
         "name": "review_title",
         "rawType": "object",
         "type": "unknown"
        },
        {
         "name": "review_content",
         "rawType": "object",
         "type": "unknown"
        },
        {
         "name": "img_link",
         "rawType": "object",
         "type": "unknown"
        },
        {
         "name": "product_link",
         "rawType": "object",
         "type": "unknown"
        }
       ],
       "conversionMethod": "pd.DataFrame",
       "ref": "465655ff-623e-4d99-a5f3-7317952a3daf",
       "rows": [
        [
         "count",
         "1465",
         "1465",
         "1465",
         "1465",
         "1465",
         "1465",
         "1465",
         "1465",
         "1465",
         "1465",
         "1465"
        ],
        [
         "unique",
         "1351",
         "1337",
         "211",
         "1293",
         "1194",
         "1194",
         "1194",
         "1194",
         "1212",
         "1412",
         "1465"
        ],
        [
         "top",
         "B08WRWPM22",
         "Fire-Boltt Ninja Call Pro Plus 1.83\" Smart Watch with Bluetooth Calling, AI Voice Assistance, 100 Sports Modes IP67 Rating, 240*280 Pixel High Resolution",
         "Computers&Accessories|Accessories&Peripherals|Cables&Accessories|Cables|USBCables",
         "[CHARGE & SYNC FUNCTION]- This cable comes with charging & Data sync function|[HIGH QUALITY MATERIAL]- TPE + Nylon Material to make sure that the life of the cable is enhanced significantly|[LONG CORD]- The Cable is extra thick 1.2 meter long, optimized for an easy use for your comfort at home or office|[MORE DURABLE]-This cable is unique interms of design and multi-use and is positioned to provide the best comfort and performance while using|[UNIVERSAL COMPATIBILITY]- Compatible with all devices like iPhone XS, X, XR, 8, 7, 6S, 6, 5S, iPad Pro, iPad mini and iPad Air",
         "AHIKJUDTVJ4T6DV6IUGFYZ5LXMPA,AE55KTFVNXYFD5FPYWP2OUPEYNPQ,AEBWA5I4QFCA3P3OBEPMELBGN4GQ,AHMGAC6QM62UXNEOCZIHLHSXPP2Q,AFHROSCGIXUPV3FYQ7H5QOD46Q7Q,AEAMIR3CMSA32IDEINSJKHRNANTA,AF355FTXYAKFH5NYPRTE7SL3WO3Q,AG5DWPD54QGSLWJ6QUFERLPNAX4Q",
         "$@|\\|TO$|-|,Sethu madhav,Akash Thakur,Burger Planet,Justice ⚖️,indrajyoti d.,Aditya Kumar,E.C.GEORGE",
         "R3F4T5TRYPTMIG,R3DQIEC603E7AY,R1O4Z15FD40PV5,RDVX50PD4CTFE,R3H6WKG0TA5CGU,R3Q3L1KP5QWPV3,RU0LU2PAIIME,R20FTANBPFA653",
         "Worked on iPhone 7 and didn’t work on XR,Good one,Dull Physical Looks,Just Buy it,Go for it,About the product,Get charging cable at the price,Working well.",
         "I am not big on camera usage, personally. I was even mentally prepared for a bad camera, based on some reviews here. But I was pleasantly surprised that camera clicks good photos. They are not awesome, but they are decent photos that can even be shared.Now coming to my biggest grouse; heating issue. The phone started heating up while charging, but it was just a little and so I could have ignored it. But then it started heating up more and got me very concerned. I even ordered a replacement thinking I got a defective piece. But then, after further tests, I found that it is heating more when I download huge amounts of data, for example, when I restore data of my old phone, from back up. This is ok with me as, I don't perform huge data loads regularly, definitely not on phone. Then I tested by running tasks I usually perform such as checking office mails, attending office meeting on phone, watching a video from Amazon Prime, and so on. The phone did not heat up even a little. Personally, this is good for me.At this price range, this is a good phone. But if you are camera heavy user and expect to perform heavy downloads frequently, this phone may not for you. I am personally satisfied with this phone as it works for my type of usage. I will not go into plus points of this phone as they are covered by other reviews already. I am only attempting to clarify about how this phone can suit you (or not) in terms of camera and heating. I had many questions about these aspects before buying. Perhaps this review will help you make an informed decision to buy (or avoid). Cheers.,Display - BeautyCamera - decentPerformance - AmazingBattery - ok (in 5000mah u expect more tbh)Overall good phone...Also after 1day of use, i found some network connectivity issue in my jiosim, which I'm using right now in this phone, but I'll keep update this review after 1month of usage!,It's a decent mobile under this price but few things worried me , weight of the phone, too many procedure to change some settings, no screen casting. Apart from that it has good touch, a decent camera for day light , battery life is good.,I bought this smartphone for my mom. Samusung interface is very handful for easy use. Battery is superb, last whole day. Camera is mediocre but provide original colour pictures. All in all satisfied with this smartphone that i got in sale for 9499.,Unable to do video call within same service provider as in VOLTE within same service provider video call feature is available.,Product is fine.  Nothing Fancy but for the budget it is a good phone.,BATTERY : more than enough for normal use  Not sure in gamingCAMERA : good in this segment , can record  videos in FHD 30fpsDISPLAY : since it's a LCD display the quality is  a bit less , but goodV RAM : you can add upto 2gb of virtual ram  but have to sacrifice your storage  Space to use it  OVERALL A GOOD BUDGET PHONE,Finger print is working speedy battery backup is good camera quality is also good",
         "https://m.media-amazon.com/images/I/413sCRKobNL._SX300_SY300_QL70_ML2_.jpg",
         "https://www.amazon.in/Borosil-Jumbo-1000-Watt-Grill-Sandwich/dp/B01486F4G6/ref=sr_1_506?qid=1672923617&s=kitchen&sr=1-506"
        ],
        [
         "freq",
         "3",
         "5",
         "233",
         "6",
         "10",
         "10",
         "10",
         "10",
         "8",
         "3",
         "1"
        ]
       ],
       "shape": {
        "columns": 11,
        "rows": 4
       }
      },
      "text/html": [
       "<div>\n",
       "<style scoped>\n",
       "    .dataframe tbody tr th:only-of-type {\n",
       "        vertical-align: middle;\n",
       "    }\n",
       "\n",
       "    .dataframe tbody tr th {\n",
       "        vertical-align: top;\n",
       "    }\n",
       "\n",
       "    .dataframe thead th {\n",
       "        text-align: right;\n",
       "    }\n",
       "</style>\n",
       "<table border=\"1\" class=\"dataframe\">\n",
       "  <thead>\n",
       "    <tr style=\"text-align: right;\">\n",
       "      <th></th>\n",
       "      <th>product_id</th>\n",
       "      <th>product_name</th>\n",
       "      <th>category</th>\n",
       "      <th>about_product</th>\n",
       "      <th>user_id</th>\n",
       "      <th>user_name</th>\n",
       "      <th>review_id</th>\n",
       "      <th>review_title</th>\n",
       "      <th>review_content</th>\n",
       "      <th>img_link</th>\n",
       "      <th>product_link</th>\n",
       "    </tr>\n",
       "  </thead>\n",
       "  <tbody>\n",
       "    <tr>\n",
       "      <th>count</th>\n",
       "      <td>1465</td>\n",
       "      <td>1465</td>\n",
       "      <td>1465</td>\n",
       "      <td>1465</td>\n",
       "      <td>1465</td>\n",
       "      <td>1465</td>\n",
       "      <td>1465</td>\n",
       "      <td>1465</td>\n",
       "      <td>1465</td>\n",
       "      <td>1465</td>\n",
       "      <td>1465</td>\n",
       "    </tr>\n",
       "    <tr>\n",
       "      <th>unique</th>\n",
       "      <td>1351</td>\n",
       "      <td>1337</td>\n",
       "      <td>211</td>\n",
       "      <td>1293</td>\n",
       "      <td>1194</td>\n",
       "      <td>1194</td>\n",
       "      <td>1194</td>\n",
       "      <td>1194</td>\n",
       "      <td>1212</td>\n",
       "      <td>1412</td>\n",
       "      <td>1465</td>\n",
       "    </tr>\n",
       "    <tr>\n",
       "      <th>top</th>\n",
       "      <td>B08WRWPM22</td>\n",
       "      <td>Fire-Boltt Ninja Call Pro Plus 1.83\" Smart Wat...</td>\n",
       "      <td>Computers&amp;Accessories|Accessories&amp;Peripherals|...</td>\n",
       "      <td>[CHARGE &amp; SYNC FUNCTION]- This cable comes wit...</td>\n",
       "      <td>AHIKJUDTVJ4T6DV6IUGFYZ5LXMPA,AE55KTFVNXYFD5FPY...</td>\n",
       "      <td>$@|\\|TO$|-|,Sethu madhav,Akash Thakur,Burger P...</td>\n",
       "      <td>R3F4T5TRYPTMIG,R3DQIEC603E7AY,R1O4Z15FD40PV5,R...</td>\n",
       "      <td>Worked on iPhone 7 and didn’t work on XR,Good ...</td>\n",
       "      <td>I am not big on camera usage, personally. I wa...</td>\n",
       "      <td>https://m.media-amazon.com/images/I/413sCRKobN...</td>\n",
       "      <td>https://www.amazon.in/Borosil-Jumbo-1000-Watt-...</td>\n",
       "    </tr>\n",
       "    <tr>\n",
       "      <th>freq</th>\n",
       "      <td>3</td>\n",
       "      <td>5</td>\n",
       "      <td>233</td>\n",
       "      <td>6</td>\n",
       "      <td>10</td>\n",
       "      <td>10</td>\n",
       "      <td>10</td>\n",
       "      <td>10</td>\n",
       "      <td>8</td>\n",
       "      <td>3</td>\n",
       "      <td>1</td>\n",
       "    </tr>\n",
       "  </tbody>\n",
       "</table>\n",
       "</div>"
      ],
      "text/plain": [
       "        product_id                                       product_name  \\\n",
       "count         1465                                               1465   \n",
       "unique        1351                                               1337   \n",
       "top     B08WRWPM22  Fire-Boltt Ninja Call Pro Plus 1.83\" Smart Wat...   \n",
       "freq             3                                                  5   \n",
       "\n",
       "                                                 category  \\\n",
       "count                                                1465   \n",
       "unique                                                211   \n",
       "top     Computers&Accessories|Accessories&Peripherals|...   \n",
       "freq                                                  233   \n",
       "\n",
       "                                            about_product  \\\n",
       "count                                                1465   \n",
       "unique                                               1293   \n",
       "top     [CHARGE & SYNC FUNCTION]- This cable comes wit...   \n",
       "freq                                                    6   \n",
       "\n",
       "                                                  user_id  \\\n",
       "count                                                1465   \n",
       "unique                                               1194   \n",
       "top     AHIKJUDTVJ4T6DV6IUGFYZ5LXMPA,AE55KTFVNXYFD5FPY...   \n",
       "freq                                                   10   \n",
       "\n",
       "                                                user_name  \\\n",
       "count                                                1465   \n",
       "unique                                               1194   \n",
       "top     $@|\\|TO$|-|,Sethu madhav,Akash Thakur,Burger P...   \n",
       "freq                                                   10   \n",
       "\n",
       "                                                review_id  \\\n",
       "count                                                1465   \n",
       "unique                                               1194   \n",
       "top     R3F4T5TRYPTMIG,R3DQIEC603E7AY,R1O4Z15FD40PV5,R...   \n",
       "freq                                                   10   \n",
       "\n",
       "                                             review_title  \\\n",
       "count                                                1465   \n",
       "unique                                               1194   \n",
       "top     Worked on iPhone 7 and didn’t work on XR,Good ...   \n",
       "freq                                                   10   \n",
       "\n",
       "                                           review_content  \\\n",
       "count                                                1465   \n",
       "unique                                               1212   \n",
       "top     I am not big on camera usage, personally. I wa...   \n",
       "freq                                                    8   \n",
       "\n",
       "                                                 img_link  \\\n",
       "count                                                1465   \n",
       "unique                                               1412   \n",
       "top     https://m.media-amazon.com/images/I/413sCRKobN...   \n",
       "freq                                                    3   \n",
       "\n",
       "                                             product_link  \n",
       "count                                                1465  \n",
       "unique                                               1465  \n",
       "top     https://www.amazon.in/Borosil-Jumbo-1000-Watt-...  \n",
       "freq                                                    1  "
      ]
     },
     "execution_count": 5,
     "metadata": {},
     "output_type": "execute_result"
    }
   ],
   "source": [
    "df.describe(include='object')"
   ]
  },
  {
   "cell_type": "code",
   "execution_count": 6,
   "metadata": {},
   "outputs": [
    {
     "name": "stdout",
     "output_type": "stream",
     "text": [
      "There are 0 duplicates in the dataset\n"
     ]
    }
   ],
   "source": [
    "duplicates = df.duplicated().sum()\n",
    "print(f'There are {duplicates} duplicates in the dataset')  "
   ]
  },
  {
   "cell_type": "markdown",
   "metadata": {},
   "source": [
    "Listing all unique categories"
   ]
  },
  {
   "cell_type": "code",
   "execution_count": 7,
   "metadata": {},
   "outputs": [
    {
     "name": "stdout",
     "output_type": "stream",
     "text": [
      "['Computers&Accessories|Accessories&Peripherals|Cables&Accessories|Cables|USBCables'\n",
      " 'Computers&Accessories|NetworkingDevices|NetworkAdapters|WirelessUSBAdapters'\n",
      " 'Electronics|HomeTheater,TV&Video|Accessories|Cables|HDMICables'\n",
      " 'Electronics|HomeTheater,TV&Video|Televisions|SmartTelevisions'\n",
      " 'Electronics|HomeTheater,TV&Video|Accessories|RemoteControls'\n",
      " 'Electronics|HomeTheater,TV&Video|Televisions|StandardTelevisions'\n",
      " 'Electronics|HomeTheater,TV&Video|Accessories|TVMounts,Stands&Turntables|TVWall&CeilingMounts'\n",
      " 'Electronics|HomeTheater,TV&Video|Accessories|Cables|RCACables'\n",
      " 'Electronics|HomeAudio|Accessories|SpeakerAccessories|Mounts'\n",
      " 'Electronics|HomeTheater,TV&Video|Accessories|Cables|OpticalCables'\n",
      " 'Electronics|HomeTheater,TV&Video|Projectors'\n",
      " 'Electronics|HomeAudio|Accessories|Adapters'\n",
      " 'Electronics|HomeTheater,TV&Video|SatelliteEquipment|SatelliteReceivers'\n",
      " 'Computers&Accessories|Accessories&Peripherals|Cables&Accessories|Cables|DVICables'\n",
      " 'Electronics|HomeTheater,TV&Video|Accessories|Cables|SpeakerCables'\n",
      " 'Electronics|HomeAudio|MediaStreamingDevices|StreamingClients'\n",
      " 'Electronics|HomeTheater,TV&Video|AVReceivers&Amplifiers'\n",
      " 'Electronics|HomeAudio|Speakers|TowerSpeakers'\n",
      " 'Electronics|HomeTheater,TV&Video|Accessories|3DGlasses'\n",
      " 'Electronics|WearableTechnology|SmartWatches'\n",
      " 'Electronics|Mobiles&Accessories|MobileAccessories|Chargers|PowerBanks'\n",
      " 'Electronics|Mobiles&Accessories|Smartphones&BasicMobiles|Smartphones'\n",
      " 'Electronics|Accessories|MemoryCards|MicroSD'\n",
      " 'Electronics|Mobiles&Accessories|Smartphones&BasicMobiles|BasicMobiles'\n",
      " 'Electronics|Headphones,Earbuds&Accessories|Headphones|In-Ear'\n",
      " 'Electronics|Mobiles&Accessories|MobileAccessories|Chargers|AutomobileChargers'\n",
      " 'Electronics|Mobiles&Accessories|MobileAccessories|AutomobileAccessories|Cradles'\n",
      " 'Electronics|Mobiles&Accessories|MobileAccessories|Chargers|WallChargers'\n",
      " 'Electronics|Mobiles&Accessories|MobileAccessories|Cables&Adapters|OTGAdapters'\n",
      " 'Electronics|Mobiles&Accessories|MobileAccessories|Photo&VideoAccessories|Tripods'\n",
      " 'Electronics|Mobiles&Accessories|MobileAccessories|Photo&VideoAccessories|SelfieSticks'\n",
      " 'Electronics|Mobiles&Accessories|MobileAccessories|Stands'\n",
      " 'Computers&Accessories|Accessories&Peripherals|Cables&Accessories|CableConnectionProtectors'\n",
      " 'Electronics|Mobiles&Accessories|MobileAccessories|Décor'\n",
      " 'Electronics|Mobiles&Accessories|MobileAccessories|Maintenance,Upkeep&Repairs|ScreenProtectors'\n",
      " 'Electronics|Mobiles&Accessories|MobileAccessories|StylusPens'\n",
      " 'Electronics|Mobiles&Accessories|MobileAccessories|Mounts|Bedstand&DeskMounts'\n",
      " 'Electronics|Mobiles&Accessories|MobileAccessories|Cases&Covers|BasicCases'\n",
      " 'Electronics|Mobiles&Accessories|MobileAccessories|Mounts|HandlebarMounts'\n",
      " 'Electronics|Headphones,Earbuds&Accessories|Headphones|On-Ear'\n",
      " 'Computers&Accessories|Accessories&Peripherals|LaptopAccessories|CameraPrivacyCovers'\n",
      " 'Electronics|Headphones,Earbuds&Accessories|Adapters'\n",
      " 'Electronics|Mobiles&Accessories|MobileAccessories|Décor|PhoneCharms'\n",
      " 'Electronics|Mobiles&Accessories|MobileAccessories|Mounts|Shower&WallMounts'\n",
      " 'Computers&Accessories|ExternalDevices&DataStorage|PenDrives'\n",
      " 'Computers&Accessories|Accessories&Peripherals|Keyboards,Mice&InputDevices|Mice'\n",
      " 'Computers&Accessories|Accessories&Peripherals|Keyboards,Mice&InputDevices|GraphicTablets'\n",
      " 'Computers&Accessories|Accessories&Peripherals|LaptopAccessories|Lapdesks'\n",
      " 'Computers&Accessories|Accessories&Peripherals|LaptopAccessories|NotebookComputerStands'\n",
      " 'Computers&Accessories|Accessories&Peripherals|Keyboards,Mice&InputDevices|Keyboards'\n",
      " 'MusicalInstruments|Microphones|Condenser'\n",
      " 'Electronics|GeneralPurposeBatteries&BatteryChargers|DisposableBatteries'\n",
      " 'OfficeProducts|OfficePaperProducts|Paper|Stationery|Pens,Pencils&WritingSupplies|Pens&Refills|GelInkRollerballPens'\n",
      " 'Home&Kitchen|CraftMaterials|Scrapbooking|Tape'\n",
      " 'Computers&Accessories|Accessories&Peripherals|Keyboards,Mice&InputDevices|Keyboard&MouseSets'\n",
      " 'Computers&Accessories|ExternalDevices&DataStorage|ExternalHardDisks'\n",
      " 'Electronics|Cameras&Photography|VideoCameras'\n",
      " 'Electronics|Cameras&Photography|Accessories|Tripods&Monopods|Tabletop&TravelTripods'\n",
      " 'OfficeProducts|OfficeElectronics|Calculators|Scientific'\n",
      " 'Computers&Accessories|NetworkingDevices|Repeaters&Extenders'\n",
      " 'Electronics|Cameras&Photography|Accessories|Tripods&Monopods|TripodLegs'\n",
      " 'Computers&Accessories|Printers,Inks&Accessories|Inks,Toners&Cartridges|InkjetInkCartridges'\n",
      " 'Computers&Accessories|Accessories&Peripherals|Keyboards,Mice&InputDevices|Keyboard&MiceAccessories|DustCovers'\n",
      " 'Computers&Accessories|Accessories&Peripherals|PCGamingPeripherals|GamingMice'\n",
      " 'Home&Kitchen|CraftMaterials|PaintingMaterials|Paints'\n",
      " 'Computers&Accessories|Accessories&Peripherals|Keyboards,Mice&InputDevices|Keyboard&MiceAccessories|MousePads'\n",
      " 'Computers&Accessories|Accessories&Peripherals|HardDiskBags'\n",
      " 'Electronics|Cameras&Photography|Flashes|Macro&RinglightFlashes'\n",
      " 'Computers&Accessories|NetworkingDevices'\n",
      " 'Computers&Accessories|NetworkingDevices|Routers'\n",
      " 'Electronics|Headphones,Earbuds&Accessories|Headphones|Over-Ear'\n",
      " 'Electronics|HomeAudio|Speakers|BluetoothSpeakers'\n",
      " 'Electronics|GeneralPurposeBatteries&BatteryChargers'\n",
      " 'OfficeProducts|OfficePaperProducts|Paper|Stationery|Notebooks,WritingPads&Diaries|WireboundNotebooks'\n",
      " 'Electronics|GeneralPurposeBatteries&BatteryChargers|RechargeableBatteries'\n",
      " 'Computers&Accessories|NetworkingDevices|NetworkAdapters|BluetoothAdapters'\n",
      " 'Computers&Accessories|Accessories&Peripherals|Adapters|USBtoUSBAdapters'\n",
      " 'Electronics|Cameras&Photography|Accessories|Tripods&Monopods|CompleteTripodUnits'\n",
      " 'OfficeProducts|OfficePaperProducts|Paper|Stationery|Notebooks,WritingPads&Diaries|Notepads&MemoBooks'\n",
      " 'Electronics|Cameras&Photography|Accessories|Film'\n",
      " 'Computers&Accessories|Monitors'\n",
      " 'Computers&Accessories|Accessories&Peripherals|USBGadgets|Lamps'\n",
      " 'Electronics|Cameras&Photography|Accessories|Cleaners|CleaningKits'\n",
      " 'Electronics|Cameras&Photography|SecurityCameras|DomeCameras'\n",
      " 'Computers&Accessories|Accessories&Peripherals|TabletAccessories|ScreenProtectors'\n",
      " 'Computers&Accessories|Accessories&Peripherals|PCGamingPeripherals|Gamepads'\n",
      " 'OfficeProducts|OfficeElectronics|Calculators|Basic'\n",
      " 'Computers&Accessories|Accessories&Peripherals|USBHubs'\n",
      " 'Computers&Accessories|Accessories&Peripherals|Audio&VideoAccessories|PCMicrophones'\n",
      " 'Electronics|HomeAudio|Speakers|OutdoorSpeakers'\n",
      " 'Computers&Accessories|Accessories&Peripherals|LaptopAccessories|Bags&Sleeves|LaptopSleeves&Slipcases'\n",
      " 'Computers&Accessories|ExternalDevices&DataStorage|ExternalMemoryCardReaders'\n",
      " 'OfficeProducts|OfficePaperProducts|Paper|Stationery|Pens,Pencils&WritingSupplies|Pens&Refills|BottledInk'\n",
      " 'OfficeProducts|OfficePaperProducts|Paper|Stationery|Notebooks,WritingPads&Diaries|CompositionNotebooks'\n",
      " 'OfficeProducts|OfficePaperProducts|Paper|Stationery|Pens,Pencils&WritingSupplies|Pens&Refills|RetractableBallpointPens'\n",
      " 'Computers&Accessories|Accessories&Peripherals|Cables&Accessories|Cables|EthernetCables'\n",
      " 'Computers&Accessories|Components|Memory'\n",
      " 'Computers&Accessories|Accessories&Peripherals|UninterruptedPowerSupplies'\n",
      " 'Electronics|Headphones,Earbuds&Accessories|Cases'\n",
      " 'Electronics|Accessories|MemoryCards|SecureDigitalCards'\n",
      " 'Electronics|Mobiles&Accessories|MobileAccessories|Photo&VideoAccessories|Flashes&SelfieLights|SelfieLights'\n",
      " 'Computers&Accessories|Accessories&Peripherals|Audio&VideoAccessories|Webcams&VoIPEquipment|Webcams'\n",
      " 'Computers&Accessories|Accessories&Peripherals|LaptopAccessories|CoolingPads'\n",
      " 'Computers&Accessories|Accessories&Peripherals|LaptopAccessories'\n",
      " 'Computers&Accessories|Accessories&Peripherals|TabletAccessories|Stands'\n",
      " 'HomeImprovement|Electrical|Adapters&Multi-Outlets'\n",
      " 'OfficeProducts|OfficePaperProducts|Paper|Copy&PrintingPaper|ColouredPaper'\n",
      " 'Computers&Accessories|Components|InternalSolidStateDrives'\n",
      " 'Electronics|HomeAudio|Speakers|MultimediaSpeakerSystems'\n",
      " 'Computers&Accessories|NetworkingDevices|DataCards&Dongles'\n",
      " 'Computers&Accessories|Accessories&Peripherals|LaptopAccessories|LaptopChargers&PowerSupplies'\n",
      " 'Computers&Accessories|Accessories&Peripherals|Audio&VideoAccessories|PCSpeakers'\n",
      " 'Electronics|Cameras&Photography|Accessories|Batteries&Chargers|BatteryChargers'\n",
      " 'Computers&Accessories|Accessories&Peripherals|TabletAccessories|Bags,Cases&Sleeves|Cases'\n",
      " 'OfficeProducts|OfficePaperProducts|Paper|Stationery|Pens,Pencils&WritingSupplies|Pens&Refills|StickBallpointPens'\n",
      " 'Home&Kitchen|CraftMaterials|DrawingMaterials|DrawingMedia|Pencils|WoodenPencils'\n",
      " 'Computers&Accessories|Components|InternalHardDrives'\n",
      " 'Computers&Accessories|Printers,Inks&Accessories|Printers'\n",
      " 'Home&Kitchen|CraftMaterials|DrawingMaterials|DrawingMedia|Pens'\n",
      " 'Computers&Accessories|Accessories&Peripherals|Cables&Accessories|Cables|SATACables'\n",
      " 'Computers&Accessories|Accessories&Peripherals|Audio&VideoAccessories|PCHeadsets'\n",
      " 'Computers&Accessories|Accessories&Peripherals|PCGamingPeripherals|GamingKeyboards'\n",
      " 'Electronics|HomeAudio|Speakers|SoundbarSpeakers'\n",
      " 'Electronics|Headphones,Earbuds&Accessories|Earpads'\n",
      " 'Computers&Accessories|Printers,Inks&Accessories|Printers|InkjetPrinters'\n",
      " 'Toys&Games|Arts&Crafts|Drawing&PaintingSupplies|ColouringPens&Markers'\n",
      " 'Computers&Accessories|Accessories&Peripherals|PCGamingPeripherals|Headsets'\n",
      " 'Computers&Accessories|ExternalDevices&DataStorage|ExternalSolidStateDrives'\n",
      " 'Computers&Accessories|NetworkingDevices|NetworkAdapters|PowerLANAdapters'\n",
      " 'Computers&Accessories|Printers,Inks&Accessories|Inks,Toners&Cartridges|InkjetInkRefills&Kits'\n",
      " 'OfficeProducts|OfficePaperProducts|Paper|Stationery|Notebooks,WritingPads&Diaries'\n",
      " 'Electronics|Cameras&Photography|Accessories|PhotoStudio&Lighting|PhotoBackgroundAccessories|BackgroundSupports'\n",
      " 'OfficeProducts|OfficeElectronics|Calculators|Financial&Business'\n",
      " 'Electronics|PowerAccessories|SurgeProtectors'\n",
      " 'Computers&Accessories|Tablets'\n",
      " 'HomeImprovement|Electrical|CordManagement'\n",
      " 'Home&Kitchen|CraftMaterials|PaintingMaterials'\n",
      " 'Computers&Accessories|Printers,Inks&Accessories|Inks,Toners&Cartridges|TonerCartridges'\n",
      " 'OfficeProducts|OfficePaperProducts|Paper|Stationery|Pens,Pencils&WritingSupplies|Pens&Refills|LiquidInkRollerballPens'\n",
      " 'OfficeProducts|OfficePaperProducts|Paper|Stationery|Pens,Pencils&WritingSupplies|Pens&Refills|FountainPens'\n",
      " 'Computers&Accessories|Accessories&Peripherals|HardDriveAccessories|Caddies'\n",
      " 'Computers&Accessories|Laptops|TraditionalLaptops'\n",
      " 'Home&Kitchen|Kitchen&HomeAppliances|SmallKitchenAppliances|Kettles&HotWaterDispensers|ElectricKettles'\n",
      " 'Home&Kitchen|Heating,Cooling&AirQuality|RoomHeaters|ElectricHeaters'\n",
      " 'Home&Kitchen|Heating,Cooling&AirQuality|RoomHeaters|FanHeaters'\n",
      " 'Home&Kitchen|Kitchen&HomeAppliances|Vacuum,Cleaning&Ironing|Irons,Steamers&Accessories|LintShavers'\n",
      " 'Home&Kitchen|Kitchen&HomeAppliances|SmallKitchenAppliances|DigitalKitchenScales'\n",
      " 'Home&Kitchen|Kitchen&Dining|KitchenTools|ManualChoppers&Chippers|Choppers'\n",
      " 'Home&Kitchen|Kitchen&HomeAppliances|SmallKitchenAppliances|InductionCooktop'\n",
      " 'Home&Kitchen|Kitchen&HomeAppliances|SmallKitchenAppliances|HandBlenders'\n",
      " 'Home&Kitchen|Kitchen&HomeAppliances|Vacuum,Cleaning&Ironing|Irons,Steamers&Accessories|Irons|DryIrons'\n",
      " 'Home&Kitchen|Kitchen&HomeAppliances|SmallKitchenAppliances|MixerGrinders'\n",
      " 'Home&Kitchen|Heating,Cooling&AirQuality|WaterHeaters&Geysers|InstantWaterHeaters'\n",
      " 'Home&Kitchen|Heating,Cooling&AirQuality|RoomHeaters'\n",
      " 'Home&Kitchen|Kitchen&HomeAppliances|SmallKitchenAppliances|Kettles&HotWaterDispensers|Kettle&ToasterSets'\n",
      " 'Home&Kitchen|Heating,Cooling&AirQuality|WaterHeaters&Geysers|StorageWaterHeaters'\n",
      " 'Home&Kitchen|Heating,Cooling&AirQuality|WaterHeaters&Geysers|ImmersionRods'\n",
      " 'Home&Kitchen|Kitchen&HomeAppliances|SmallKitchenAppliances|DeepFatFryers|AirFryers'\n",
      " 'Home&Kitchen|HomeStorage&Organization|LaundryOrganization|LaundryBaskets'\n",
      " 'Home&Kitchen|Kitchen&HomeAppliances|Vacuum,Cleaning&Ironing|Irons,Steamers&Accessories|Irons|SteamIrons'\n",
      " 'Home&Kitchen|Kitchen&HomeAppliances|SmallKitchenAppliances|JuicerMixerGrinders'\n",
      " 'Home&Kitchen|Kitchen&HomeAppliances|Vacuum,Cleaning&Ironing|Vacuums&FloorCare|Vacuums|HandheldVacuums'\n",
      " 'Home&Kitchen|Kitchen&HomeAppliances|SmallKitchenAppliances|EggBoilers'\n",
      " 'Home&Kitchen|Kitchen&HomeAppliances|SmallKitchenAppliances|SandwichMakers'\n",
      " 'Home&Kitchen|Kitchen&HomeAppliances|SmallKitchenAppliances|MiniFoodProcessors&Choppers'\n",
      " 'Home&Kitchen|Kitchen&HomeAppliances|SmallKitchenAppliances|DigitalKitchenScales|DigitalScales'\n",
      " 'Home&Kitchen|Kitchen&HomeAppliances|SmallKitchenAppliances|VacuumSealers'\n",
      " 'Home&Kitchen|Heating,Cooling&AirQuality|Fans|CeilingFans'\n",
      " 'Home&Kitchen|Kitchen&HomeAppliances|Vacuum,Cleaning&Ironing|Vacuums&FloorCare|Vacuums|CanisterVacuums'\n",
      " 'Home&Kitchen|Kitchen&HomeAppliances|Vacuum,Cleaning&Ironing|PressureWashers,Steam&WindowCleaners'\n",
      " 'Home&Kitchen|Heating,Cooling&AirQuality|RoomHeaters|HalogenHeaters'\n",
      " 'Home&Kitchen|Kitchen&HomeAppliances|SmallKitchenAppliances|Pop-upToasters'\n",
      " 'Home&Kitchen|Heating,Cooling&AirQuality|RoomHeaters|HeatConvectors'\n",
      " 'Home&Kitchen|Kitchen&HomeAppliances|Coffee,Tea&Espresso|CoffeeGrinders|ElectricGrinders'\n",
      " 'Home&Kitchen|Heating,Cooling&AirQuality|Fans|ExhaustFans'\n",
      " 'Home&Kitchen|Kitchen&HomeAppliances|Coffee,Tea&Espresso|DripCoffeeMachines'\n",
      " 'Home&Kitchen|Kitchen&HomeAppliances|WaterPurifiers&Accessories|WaterPurifierAccessories'\n",
      " 'Home&Kitchen|Kitchen&HomeAppliances|WaterPurifiers&Accessories|WaterCartridges'\n",
      " 'Home&Kitchen|Kitchen&HomeAppliances|SmallKitchenAppliances|Rice&PastaCookers'\n",
      " 'Car&Motorbike|CarAccessories|InteriorAccessories|AirPurifiers&Ionizers'\n",
      " 'Home&Kitchen|Kitchen&HomeAppliances|Vacuum,Cleaning&Ironing|Vacuums&FloorCare|Vacuums|Wet-DryVacuums'\n",
      " 'Home&Kitchen|Heating,Cooling&AirQuality|AirPurifiers|HEPAAirPurifiers'\n",
      " 'Home&Kitchen|Kitchen&HomeAppliances|WaterPurifiers&Accessories|WaterFilters&Purifiers'\n",
      " 'Home&Kitchen|HomeStorage&Organization|LaundryOrganization|LaundryBags'\n",
      " 'Home&Kitchen|Kitchen&HomeAppliances|SewingMachines&Accessories|Sewing&EmbroideryMachines'\n",
      " 'Home&Kitchen|HomeStorage&Organization|LaundryOrganization|IroningAccessories|SprayBottles'\n",
      " 'Home&Kitchen|Kitchen&HomeAppliances|SmallKitchenAppliances|HandMixers'\n",
      " 'Home&Kitchen|Kitchen&HomeAppliances|SmallKitchenAppliances|Mills&Grinders|WetGrinders'\n",
      " 'Home&Kitchen|Kitchen&HomeAppliances|SmallKitchenAppliances|OvenToasterGrills'\n",
      " 'Home&Kitchen|Kitchen&HomeAppliances|SmallKitchenAppliances|Juicers'\n",
      " 'Home&Kitchen|Kitchen&HomeAppliances|SmallKitchenAppliances'\n",
      " 'Health&PersonalCare|HomeMedicalSupplies&Equipment|HealthMonitors|WeighingScales|DigitalBathroomScales'\n",
      " 'Home&Kitchen|Kitchen&HomeAppliances|Coffee,Tea&Espresso|EspressoMachines'\n",
      " 'Home&Kitchen|Heating,Cooling&AirQuality|Fans|TableFans'\n",
      " 'Home&Kitchen|Kitchen&HomeAppliances|Coffee,Tea&Espresso|MilkFrothers'\n",
      " 'Home&Kitchen|Heating,Cooling&AirQuality|Humidifiers'\n",
      " 'Home&Kitchen|Kitchen&HomeAppliances|SmallKitchenAppliances|SmallApplianceParts&Accessories|StandMixerAccessories'\n",
      " 'Home&Kitchen|Kitchen&HomeAppliances|Vacuum,Cleaning&Ironing|Vacuums&FloorCare|Vacuums|RoboticVacuums'\n",
      " 'Home&Kitchen|Kitchen&HomeAppliances|SmallKitchenAppliances|YogurtMakers'\n",
      " 'Home&Kitchen|Kitchen&HomeAppliances|SmallKitchenAppliances|Juicers|ColdPressJuicers'\n",
      " 'Home&Kitchen|Heating,Cooling&AirQuality|AirConditioners|Split-SystemAirConditioners'\n",
      " 'Home&Kitchen|Kitchen&HomeAppliances|SmallKitchenAppliances|SmallApplianceParts&Accessories'\n",
      " 'Home&Kitchen|Kitchen&HomeAppliances|SmallKitchenAppliances|WaffleMakers&Irons'\n",
      " 'Home&Kitchen|Kitchen&HomeAppliances|Coffee,Tea&Espresso|StovetopEspressoPots'\n",
      " 'Home&Kitchen|Kitchen&HomeAppliances|Coffee,Tea&Espresso|CoffeeMakerAccessories|MeasuringSpoons'\n",
      " 'Home&Kitchen|Kitchen&HomeAppliances|Coffee,Tea&Espresso|CoffeePresses'\n",
      " 'Home&Kitchen|Kitchen&HomeAppliances|SmallKitchenAppliances|RotiMakers'\n",
      " 'Home&Kitchen|Heating,Cooling&AirQuality|Parts&Accessories|FanParts&Accessories'\n",
      " 'Home&Kitchen|Kitchen&HomeAppliances|SmallKitchenAppliances|StandMixers'\n",
      " 'Home&Kitchen|Heating,Cooling&AirQuality|Fans|PedestalFans'\n",
      " 'Home&Kitchen|Kitchen&HomeAppliances|Vacuum,Cleaning&Ironing|Vacuums&FloorCare|VacuumAccessories|VacuumBags|HandheldBags']\n",
      "Total unique categories: 211\n"
     ]
    }
   ],
   "source": [
    "categories = df['category'].unique()\n",
    "print(categories)\n",
    "category_count = df['category'].nunique()\n",
    "print(f\"Total unique categories: {category_count}\")\n"
   ]
  },
  {
   "cell_type": "markdown",
   "metadata": {},
   "source": [
    "Grouping Categories"
   ]
  },
  {
   "cell_type": "code",
   "execution_count": 8,
   "metadata": {},
   "outputs": [
    {
     "name": "stdout",
     "output_type": "stream",
     "text": [
      "   product_id                                       product_name  \\\n",
      "0  B07JW9H4J1  Wayona Nylon Braided USB to Lightning Fast Cha...   \n",
      "1  B098NS6PVG  Ambrane Unbreakable 60W / 3A Fast Charging 1.5...   \n",
      "2  B096MSW6CT  Sounce Fast Phone Charging Cable & Data Sync U...   \n",
      "3  B08HDJ86NZ  boAt Deuce USB 300 2 in 1 Type-C & Micro USB S...   \n",
      "4  B08CF3B7N1  Portronics Konnect L 1.2M Fast Charging 3A 8 P...   \n",
      "\n",
      "                                            category  rating  \\\n",
      "0  Computers&Accessories|Accessories&Peripherals|...     4.2   \n",
      "1  Computers&Accessories|Accessories&Peripherals|...     4.0   \n",
      "2  Computers&Accessories|Accessories&Peripherals|...     3.9   \n",
      "3  Computers&Accessories|Accessories&Peripherals|...     4.2   \n",
      "4  Computers&Accessories|Accessories&Peripherals|...     4.2   \n",
      "\n",
      "                                       about_product  \\\n",
      "0  High Compatibility : Compatible With iPhone 12...   \n",
      "1  Compatible with all Type C enabled devices, be...   \n",
      "2  【 Fast Charger& Data Sync】-With built-in safet...   \n",
      "3  The boAt Deuce USB 300 2 in 1 cable is compati...   \n",
      "4  [CHARGE & SYNC FUNCTION]- This cable comes wit...   \n",
      "\n",
      "                                             user_id  \\\n",
      "0  AG3D6O4STAQKAY2UVGEUV46KN35Q,AHMY5CWJMMK5BJRBB...   \n",
      "1  AECPFYFQVRUWC3KGNLJIOREFP5LQ,AGYYVPDD7YG7FYNBX...   \n",
      "2  AGU3BBQ2V2DDAMOAKGFAWDDQ6QHA,AESFLDV2PT363T2AQ...   \n",
      "3  AEWAZDZZJLQUYVOVGBEUKSLXHQ5A,AG5HTSFRRE6NL3M5S...   \n",
      "4  AE3Q6KSUK5P75D5HFYHCRAOLODSA,AFUGIFH5ZAFXRDSZH...   \n",
      "\n",
      "                                           user_name  \\\n",
      "0  Manav,Adarsh gupta,Sundeep,S.Sayeed Ahmed,jasp...   \n",
      "1  ArdKn,Nirbhay kumar,Sagar Viswanathan,Asp,Plac...   \n",
      "2  Kunal,Himanshu,viswanath,sai niharka,saqib mal...   \n",
      "3  Omkar dhale,JD,HEMALATHA,Ajwadh a.,amar singh ...   \n",
      "4  rahuls6099,Swasat Borah,Ajay Wadke,Pranali,RVK...   \n",
      "\n",
      "                                           review_id  \\\n",
      "0  R3HXWT0LRP0NMF,R2AJM3LFTLZHFO,R6AQJGUP6P86,R1K...   \n",
      "1  RGIQEG07R9HS2,R1SMWZQ86XIN8U,R2J3Y1WL29GWDE,RY...   \n",
      "2  R3J3EQQ9TZI5ZJ,R3E7WBGK7ID0KV,RWU79XKQ6I1QF,R2...   \n",
      "3  R3EEUZKKK9J36I,R3HJVYCLYOY554,REDECAZ7AMPQC,R1...   \n",
      "4  R1BP4L2HH9TFUP,R16PVJEXKV6QZS,R2UPDB81N66T4P,R...   \n",
      "\n",
      "                                        review_title  \\\n",
      "0  Satisfied,Charging is really fast,Value for mo...   \n",
      "1  A Good Braided Cable for Your Type C Device,Go...   \n",
      "2  Good speed for earlier versions,Good Product,W...   \n",
      "3  Good product,Good one,Nice,Really nice product...   \n",
      "4  As good as original,Decent,Good one for second...   \n",
      "\n",
      "                                      review_content  ...  \\\n",
      "0  Looks durable Charging is fine tooNo complains...  ...   \n",
      "1  I ordered this cable to connect my phone to An...  ...   \n",
      "2  Not quite durable and sturdy,https://m.media-a...  ...   \n",
      "3  Good product,long wire,Charges good,Nice,I bou...  ...   \n",
      "4  Bought this instead of original apple, does th...  ...   \n",
      "\n",
      "                    level2              level3            level4  \\\n",
      "0  Accessories&Peripherals  Cables&Accessories  Cables|USBCables   \n",
      "1  Accessories&Peripherals  Cables&Accessories  Cables|USBCables   \n",
      "2  Accessories&Peripherals  Cables&Accessories  Cables|USBCables   \n",
      "3  Accessories&Peripherals  Cables&Accessories  Cables|USBCables   \n",
      "4  Accessories&Peripherals  Cables&Accessories  Cables|USBCables   \n",
      "\n",
      "                  level1                   level2              level3  level4  \\\n",
      "0  Computers&Accessories  Accessories&Peripherals  Cables&Accessories  Cables   \n",
      "1  Computers&Accessories  Accessories&Peripherals  Cables&Accessories  Cables   \n",
      "2  Computers&Accessories  Accessories&Peripherals  Cables&Accessories  Cables   \n",
      "3  Computers&Accessories  Accessories&Peripherals  Cables&Accessories  Cables   \n",
      "4  Computers&Accessories  Accessories&Peripherals  Cables&Accessories  Cables   \n",
      "\n",
      "      level5 level6 level7  \n",
      "0  USBCables   None   None  \n",
      "1  USBCables   None   None  \n",
      "2  USBCables   None   None  \n",
      "3  USBCables   None   None  \n",
      "4  USBCables   None   None  \n",
      "\n",
      "[5 rows x 23 columns]\n",
      "                     level1                 level1  \\\n",
      "0     Computers&Accessories  Computers&Accessories   \n",
      "1     Computers&Accessories  Computers&Accessories   \n",
      "2     Computers&Accessories  Computers&Accessories   \n",
      "3     Computers&Accessories  Computers&Accessories   \n",
      "4     Computers&Accessories  Computers&Accessories   \n",
      "...                     ...                    ...   \n",
      "1460           Home&Kitchen           Home&Kitchen   \n",
      "1461           Home&Kitchen           Home&Kitchen   \n",
      "1462           Home&Kitchen           Home&Kitchen   \n",
      "1463           Home&Kitchen           Home&Kitchen   \n",
      "1464           Home&Kitchen           Home&Kitchen   \n",
      "\n",
      "                          level2                      level2  \\\n",
      "0        Accessories&Peripherals     Accessories&Peripherals   \n",
      "1        Accessories&Peripherals     Accessories&Peripherals   \n",
      "2        Accessories&Peripherals     Accessories&Peripherals   \n",
      "3        Accessories&Peripherals     Accessories&Peripherals   \n",
      "4        Accessories&Peripherals     Accessories&Peripherals   \n",
      "...                          ...                         ...   \n",
      "1460      Kitchen&HomeAppliances      Kitchen&HomeAppliances   \n",
      "1461      Kitchen&HomeAppliances      Kitchen&HomeAppliances   \n",
      "1462  Heating,Cooling&AirQuality  Heating,Cooling&AirQuality   \n",
      "1463  Heating,Cooling&AirQuality  Heating,Cooling&AirQuality   \n",
      "1464      Kitchen&HomeAppliances      Kitchen&HomeAppliances   \n",
      "\n",
      "                          level3                      level3  \\\n",
      "0             Cables&Accessories          Cables&Accessories   \n",
      "1             Cables&Accessories          Cables&Accessories   \n",
      "2             Cables&Accessories          Cables&Accessories   \n",
      "3             Cables&Accessories          Cables&Accessories   \n",
      "4             Cables&Accessories          Cables&Accessories   \n",
      "...                          ...                         ...   \n",
      "1460  WaterPurifiers&Accessories  WaterPurifiers&Accessories   \n",
      "1461      SmallKitchenAppliances      SmallKitchenAppliances   \n",
      "1462                 RoomHeaters                 RoomHeaters   \n",
      "1463                        Fans                        Fans   \n",
      "1464      SmallKitchenAppliances      SmallKitchenAppliances   \n",
      "\n",
      "                        level4                    level4  \n",
      "0             Cables|USBCables                    Cables  \n",
      "1             Cables|USBCables                    Cables  \n",
      "2             Cables|USBCables                    Cables  \n",
      "3             Cables|USBCables                    Cables  \n",
      "4             Cables|USBCables                    Cables  \n",
      "...                        ...                       ...  \n",
      "1460  WaterPurifierAccessories  WaterPurifierAccessories  \n",
      "1461         Rice&PastaCookers         Rice&PastaCookers  \n",
      "1462            HeatConvectors            HeatConvectors  \n",
      "1463               ExhaustFans               ExhaustFans  \n",
      "1464            SandwichMakers            SandwichMakers  \n",
      "\n",
      "[1465 rows x 8 columns]\n"
     ]
    }
   ],
   "source": [
    "df[['level1', 'level2', 'level3', 'level4']] = df['category'].str.split('|', n=3, expand=True)\n",
    "max_levels = df['category'].str.split('|').map(len).max()  # Find the maximum number of levels\n",
    "split_cols = df['category'].str.split('|', expand=True)  # Split into multiple columns\n",
    "split_cols.columns = [f'level{i+1}' for i in range(split_cols.shape[1])]  # Rename columns\n",
    "df = pd.concat([df, split_cols], axis=1)\n",
    "print(df.head())\n",
    "print(df[['level1', 'level2', 'level3', 'level4']])\n"
   ]
  },
  {
   "cell_type": "markdown",
   "metadata": {},
   "source": []
  },
  {
   "cell_type": "code",
   "execution_count": 9,
   "metadata": {},
   "outputs": [
    {
     "data": {
      "application/vnd.microsoft.datawrangler.viewer.v0+json": {
       "columns": [
        {
         "name": "index",
         "rawType": "int64",
         "type": "integer"
        },
        {
         "name": "product_id",
         "rawType": "object",
         "type": "string"
        },
        {
         "name": "product_name",
         "rawType": "object",
         "type": "string"
        },
        {
         "name": "category",
         "rawType": "object",
         "type": "string"
        },
        {
         "name": "rating",
         "rawType": "float64",
         "type": "float"
        },
        {
         "name": "about_product",
         "rawType": "object",
         "type": "string"
        },
        {
         "name": "user_id",
         "rawType": "object",
         "type": "string"
        },
        {
         "name": "user_name",
         "rawType": "object",
         "type": "string"
        },
        {
         "name": "review_id",
         "rawType": "object",
         "type": "string"
        },
        {
         "name": "review_title",
         "rawType": "object",
         "type": "string"
        },
        {
         "name": "review_content",
         "rawType": "object",
         "type": "string"
        },
        {
         "name": "img_link",
         "rawType": "object",
         "type": "string"
        },
        {
         "name": "product_link",
         "rawType": "object",
         "type": "string"
        },
        {
         "name": "level1",
         "rawType": "object",
         "type": "string"
        },
        {
         "name": "level2",
         "rawType": "object",
         "type": "string"
        },
        {
         "name": "level3",
         "rawType": "object",
         "type": "string"
        },
        {
         "name": "level4",
         "rawType": "object",
         "type": "string"
        },
        {
         "name": "level1",
         "rawType": "object",
         "type": "string"
        },
        {
         "name": "level2",
         "rawType": "object",
         "type": "string"
        },
        {
         "name": "level3",
         "rawType": "object",
         "type": "string"
        },
        {
         "name": "level4",
         "rawType": "object",
         "type": "string"
        },
        {
         "name": "level5",
         "rawType": "object",
         "type": "string"
        },
        {
         "name": "level6",
         "rawType": "object",
         "type": "unknown"
        },
        {
         "name": "level7",
         "rawType": "object",
         "type": "unknown"
        }
       ],
       "conversionMethod": "pd.DataFrame",
       "ref": "bf1efbdf-629e-4e16-ac62-2214c299c32f",
       "rows": [
        [
         "0",
         "B07JW9H4J1",
         "Wayona Nylon Braided USB to Lightning Fast Charging and Data Sync Cable Compatible for iPhone 13, 12,11, X, 8, 7, 6, 5, iPad Air, Pro, Mini (3 FT Pack of 1, Grey)",
         "Computers&Accessories|Accessories&Peripherals|Cables&Accessories|Cables|USBCables",
         "4.2",
         "High Compatibility : Compatible With iPhone 12, 11, X/XsMax/Xr ,iPhone 8/8 Plus,iPhone 7/7 Plus,iPhone 6s/6s Plus,iPhone 6/6 Plus,iPhone 5/5s/5c/se,iPad Pro,iPad Air 1/2,iPad mini 1/2/3,iPod nano7,iPod touch and more apple devices.|Fast Charge&Data Sync : It can charge and sync simultaneously at a rapid speed, Compatible with any charging adaptor, multi-port charging station or power bank.|Durability : Durable nylon braided design with premium aluminum housing and toughened nylon fiber wound tightly around the cord lending it superior durability and adding a bit to its flexibility.|High Security Level : It is designed to fully protect your device from damaging excessive current.Copper core thick+Multilayer shielding, Anti-interference, Protective circuit equipment.|WARRANTY: 12 months warranty and friendly customer services, ensures the long-time enjoyment of your purchase. If you meet any question or problem, please don't hesitate to contact us.",
         "AG3D6O4STAQKAY2UVGEUV46KN35Q,AHMY5CWJMMK5BJRBBSNLYT3ONILA,AHCTC6ULH4XB6YHDY6PCH2R772LQ,AGYHHIERNXKA6P5T7CZLXKVPT7IQ,AG4OGOFWXJZTQ2HKYIOCOY3KXF2Q,AENGU523SXMOS7JPDTW52PNNVWGQ,AEQJHCVTNINBS4FKTBGQRQTGTE5Q,AFC3FFC5PKFF5PMA52S3VCHOZ5FQ",
         "Manav,Adarsh gupta,Sundeep,S.Sayeed Ahmed,jaspreet singh,Khaja moin,Anand,S.ARUMUGAM",
         "R3HXWT0LRP0NMF,R2AJM3LFTLZHFO,R6AQJGUP6P86,R1KD19VHEDV0OR,R3C02RMYQMK6FC,R39GQRVBUZBWGY,R2K9EDOE15QIRJ,R3OI7YT648TL8I",
         "Satisfied,Charging is really fast,Value for money,Product review,Good quality,Good product,Good Product,As of now seems good",
         "Looks durable Charging is fine tooNo complains,Charging is really fast, good product.,Till now satisfied with the quality.,This is a good product . The charging speed is slower than the original iPhone cable,Good quality, would recommend,https://m.media-amazon.com/images/W/WEBP_402378-T1/images/I/81---F1ZgHL._SY88.jpg,Product had worked well till date and was having no issue.Cable is also sturdy enough...Have asked for replacement and company is doing the same...,Value for money",
         "https://m.media-amazon.com/images/W/WEBP_402378-T1/images/I/51UsScvHQNL._SX300_SY300_QL70_FMwebp_.jpg",
         "https://www.amazon.in/Wayona-Braided-WN3LG1-Syncing-Charging/dp/B07JW9H4J1/ref=sr_1_1?qid=1672909124&s=electronics&sr=1-1",
         "Computers&Accessories",
         "Accessories&Peripherals",
         "Cables&Accessories",
         "Cables|USBCables",
         "Computers&Accessories",
         "Accessories&Peripherals",
         "Cables&Accessories",
         "Cables",
         "USBCables",
         null,
         null
        ],
        [
         "1",
         "B098NS6PVG",
         "Ambrane Unbreakable 60W / 3A Fast Charging 1.5m Braided Type C Cable for Smartphones, Tablets, Laptops & other Type C devices, PD Technology, 480Mbps Data Sync, Quick Charge 3.0 (RCT15A, Black)",
         "Computers&Accessories|Accessories&Peripherals|Cables&Accessories|Cables|USBCables",
         "4.0",
         "Compatible with all Type C enabled devices, be it an android smartphone (Mi, Samsung, Oppo, Vivo, Realme, OnePlus, etc), tablet, laptop (Macbook, Chromebook, etc)|Supports Quick Charging (2.0/3.0)|Unbreakable – Made of special braided outer with rugged interior bindings, it is ultra-durable cable that won’t be affected by daily rough usage|Ideal Length – It has ideal length of 1.5 meters which is neither too short like your typical 1meter cable or too long like a 2meters cable|Supports maximum 3A fast charging and 480 Mbps data transfer speed|6 months manufacturer warranty from the date of purchase",
         "AECPFYFQVRUWC3KGNLJIOREFP5LQ,AGYYVPDD7YG7FYNBXNGXZJT525AQ,AHONIZU3ICIEHQIGQ6R2VFRSBXOQ,AFPHD2CRPDZMWMBL7WXRSVYWS5JA,AEZ346GX3HJ4O4XNRPHCNHXQURMQ,AEPSWFPNECKO34PUC7I56ITGXR6Q,AHWVEHR5DYLVFTO2KF3IZATFQSWQ,AH4QT33M55677I7ISQOAKEQWACYQ",
         "ArdKn,Nirbhay kumar,Sagar Viswanathan,Asp,Placeholder,BharanI,sonia,Niam",
         "RGIQEG07R9HS2,R1SMWZQ86XIN8U,R2J3Y1WL29GWDE,RYGGS0M09S3KY,R17KQRUTAN5DKS,R3AAQGS6HP2QUK,R1HDNOG6TO2CCA,R3PHKXYA5AFEOU",
         "A Good Braided Cable for Your Type C Device,Good quality product from ambrane,Super cable,As,Good quality,Good product,its good,Good quality for the price but one issue with my unit",
         "I ordered this cable to connect my phone to Android Auto of car. The cable is really strong and the connection ports are really well made. I already has a Micro USB cable from Ambrane and it's still in good shape. I connected my phone to the car using the cable and it got connected well and no issues. I also connected it to the charging port and yes it has Fast Charging support.,It quality is good at this price and the main thing is that i didn't ever thought that this cable will be so long it's good one and charging power is too good and also supports fast charging,Value for money, with extra length👍,Good, working fine,Product quality is good,Good,very good,Bought for my daughter's old phone.Brand new cable it was not charging, I already repacked and requested for replacement.I checked again, and there was some green colour paste/fungus inside the micro USB connector. I cleaned with an alcoholic and starts working again.Checked the ampere of charging speed got around 1400ma-1500ma - not bad, came with braided 1.5m long cable, pretty impressive for the price.Can't blame the manufacturer.But quality issues by the distributor, they might have stored in very humid place.",
         "https://m.media-amazon.com/images/W/WEBP_402378-T2/images/I/31zOsqQOAOL._SY445_SX342_QL70_FMwebp_.jpg",
         "https://www.amazon.in/Ambrane-Unbreakable-Charging-Braided-Cable/dp/B098NS6PVG/ref=sr_1_2?qid=1672909124&s=electronics&sr=1-2",
         "Computers&Accessories",
         "Accessories&Peripherals",
         "Cables&Accessories",
         "Cables|USBCables",
         "Computers&Accessories",
         "Accessories&Peripherals",
         "Cables&Accessories",
         "Cables",
         "USBCables",
         null,
         null
        ],
        [
         "2",
         "B096MSW6CT",
         "Sounce Fast Phone Charging Cable & Data Sync USB Cable Compatible for iPhone 13, 12,11, X, 8, 7, 6, 5, iPad Air, Pro, Mini & iOS Devices",
         "Computers&Accessories|Accessories&Peripherals|Cables&Accessories|Cables|USBCables",
         "3.9",
         "【 Fast Charger& Data Sync】-With built-in safety proctections and four-core copper wires promote maximum signal quality and strength and enhance charging & data transfer speed with up to 480 mb/s transferring speed.|【 Compatibility】-Compatible with iPhone 13, 12,11, X, 8, 7, 6, 5, iPad Air, Pro, Mini & iOS devices.|【 Sturdy & Durable】-The jacket and enforced connector made of TPE and premium copper, are resistant to repeatedly bending and coiling.|【 Ultra High Quality】: According to the experimental results, the fishbone design can accept at least 20,000 bending and insertion tests for extra protection and durability. Upgraded 3D aluminum connector and exclusive laser welding technology, which to ensure the metal part won't break and also have a tighter connection which fits well even with a protective case on and will never loose connection.|【 Good After Sales Service】-Our friendly and reliable customer service will respond to you within 24 hours ! you can purchase with confidence,and every sale includes a 365-day worry-free Service to prove the importance we set on quality.",
         "AGU3BBQ2V2DDAMOAKGFAWDDQ6QHA,AESFLDV2PT363T2AQLWQOWZ4N3OA,AHTPQRIMGUD4BYR5YIHBH3CCGEFQ,AEUVWXYP5LT7PZLLZENEO2NODPBQ,AHC7MPW55DOO6WNCOQVA2VHOD26A,AFDI6FRPFBTNBG7BAEB7JDJSMKDQ,AFQKCEEEKXCOHTDG4WUN3XPPHJQQ,AHKUUFNMBZIDLSSPA4FEHIO2EC7Q",
         "Kunal,Himanshu,viswanath,sai niharka,saqib malik,Aashiq,Ramu Challa,Sanjay gupta",
         "R3J3EQQ9TZI5ZJ,R3E7WBGK7ID0KV,RWU79XKQ6I1QF,R25X4TBMPY91LX,R27OK7G99VK0TR,R207CYDCHJJTCJ,R3PCU8XMU173BT,R1IMONDOWRNU5V",
         "Good speed for earlier versions,Good Product,Working good,Good for the price,Good,Worth for money,Working nice,it's a really nice product",
         "Not quite durable and sturdy,https://m.media-amazon.com/images/W/WEBP_402378-T1/images/I/71rIggrbUCL._SY88.jpg,Working good,https://m.media-amazon.com/images/W/WEBP_402378-T1/images/I/61bKp9YO6wL._SY88.jpg,Product,Very nice product,Working well,It's a really nice product",
         "https://m.media-amazon.com/images/W/WEBP_402378-T1/images/I/31IvNJZnmdL._SY445_SX342_QL70_FMwebp_.jpg",
         "https://www.amazon.in/Sounce-iPhone-Charging-Compatible-Devices/dp/B096MSW6CT/ref=sr_1_3?qid=1672909124&s=electronics&sr=1-3",
         "Computers&Accessories",
         "Accessories&Peripherals",
         "Cables&Accessories",
         "Cables|USBCables",
         "Computers&Accessories",
         "Accessories&Peripherals",
         "Cables&Accessories",
         "Cables",
         "USBCables",
         null,
         null
        ],
        [
         "3",
         "B08HDJ86NZ",
         "boAt Deuce USB 300 2 in 1 Type-C & Micro USB Stress Resistant, Tangle-Free, Sturdy Cable with 3A Fast Charging & 480mbps Data Transmission, 10000+ Bends Lifespan and Extended 1.5m Length(Martian Red)",
         "Computers&Accessories|Accessories&Peripherals|Cables&Accessories|Cables|USBCables",
         "4.2",
         "The boAt Deuce USB 300 2 in 1 cable is compatible with smartphones, tablets, PC peripherals, Bluetooth speakers, power banks and all other devices with Type-C as well as Micro USB port|It ensures 3A fast charging and data transmissions with rapid sync at 480 mbps|The premium Nylon braided skin makes it sturdy and invincible against external damage|Its Aluminium alloy shell housing makes it last longer with 10000+ Bends Lifespan with extended frame protection for strain relief|The resilient and flexible design offers a tangle free experience seamlessly|Deuce USB 300 cable offers a perfect 1.5 meters in length for smooth & hassle-free user experience|2 years warranty from the date of purchase",
         "AEWAZDZZJLQUYVOVGBEUKSLXHQ5A,AG5HTSFRRE6NL3M5SGCUQBP7YSCA,AH725ST5NW2Y4JZPKUNTIJCUK2BA,AHV3TXIFCJPMS4D5JATCEUR266MQ,AGWIGDEMFIIUAOXYY2QATNBSUGHA,AFSTSLQUV4EVEXWKBOLEFHL2H5YQ,AGAKDNBHY2FKX7I4ACRGILU7QL7A,AFNWJUWJRHCC6HN52KMG5AKZY37Q",
         "Omkar dhale,JD,HEMALATHA,Ajwadh a.,amar singh chouhan,Ravi Siddan,Himanshu Goel,Udaykumar",
         "R3EEUZKKK9J36I,R3HJVYCLYOY554,REDECAZ7AMPQC,R1CLH2ULIVG5U3,R2DMKIBGFKBD6R,RC89B5IAJUTR5,R3B3DDON5FH8DS,R13WAEJDI5RS36",
         "Good product,Good one,Nice,Really nice product,Very first time change,Good,Fine product but could be better,Very nice it's charging like jet",
         "Good product,long wire,Charges good,Nice,I bought this cable for Rs.339 worthy product for this price, i tested it in various charger adapters 33w and 18w it supports fast charging as well.,Good,Ok,I had got this at good price on sale on Amazon and product is useful with warranty but for warranty you need to go very far not practical for such a cost and mine micro to type c connector stopped working after few days only.,I like this product",
         "https://m.media-amazon.com/images/I/41V5FtEWPkL._SX300_SY300_QL70_FMwebp_.jpg",
         "https://www.amazon.in/Deuce-300-Resistant-Tangle-Free-Transmission/dp/B08HDJ86NZ/ref=sr_1_4?qid=1672909124&s=electronics&sr=1-4",
         "Computers&Accessories",
         "Accessories&Peripherals",
         "Cables&Accessories",
         "Cables|USBCables",
         "Computers&Accessories",
         "Accessories&Peripherals",
         "Cables&Accessories",
         "Cables",
         "USBCables",
         null,
         null
        ],
        [
         "4",
         "B08CF3B7N1",
         "Portronics Konnect L 1.2M Fast Charging 3A 8 Pin USB Cable with Charge & Sync Function for iPhone, iPad (Grey)",
         "Computers&Accessories|Accessories&Peripherals|Cables&Accessories|Cables|USBCables",
         "4.2",
         "[CHARGE & SYNC FUNCTION]- This cable comes with charging & Data sync function|[HIGH QUALITY MATERIAL]- TPE + Nylon Material to make sure that the life of the cable is enhanced significantly|[LONG CORD]- The Cable is extra thick 1.2 meter long, optimized for an easy use for your comfort at home or office|[MORE DURABLE]-This cable is unique interms of design and multi-use and is positioned to provide the best comfort and performance while using|[UNIVERSAL COMPATIBILITY]- Compatible with all devices like iPhone XS, X, XR, 8, 7, 6S, 6, 5S, iPad Pro, iPad mini and iPad Air",
         "AE3Q6KSUK5P75D5HFYHCRAOLODSA,AFUGIFH5ZAFXRDSZHM4QB2KPKFUQ,AFK4NJOLFSJGWLOJIUIAROJF6YVA,AFUOTYRFUXVPEBGIXVZZ7DR3CZUA,AFDLRSXKDZ6U3U3KD46SQLFGZQRA,AH5VLM66SIK7J3IRG4NY7XVOQ55A,AE3MQNNHHLUHXURL5S7IAR7JTGNQ,AFSEOFZY67MYC7UAJU264Z5NFTLA",
         "rahuls6099,Swasat Borah,Ajay Wadke,Pranali,RVK,Bhargav,Durai Vignesh,Amazon Customer",
         "R1BP4L2HH9TFUP,R16PVJEXKV6QZS,R2UPDB81N66T4P,R3KK4GT934ST3I,RCFHMWUSBIJO,RDO7DACXMAJ84,R3A6MEZL3LY66Z,R1ESIEKPGAYA29",
         "As good as original,Decent,Good one for secondary use,Best quality,GOOD,Amazing product at a mind blowing price!,Nice Quality,Good product",
         "Bought this instead of original apple, does the work for 150rs, not as fast as apple charger but its a good option if you want cheap and good product, bought it for iPad pro 10.5 and it's working flawlessly, build quality is ok, its not like i am gonna hang my clothes on it and i want a very strong cable, even a braided cable stop working after a year, i have used both Anker and Apple store strong braided cable they all stop working after a year so please don't buy high end cables just for that instead choose a this one and even if it's stops working withing a year you only loose 150rs compares to 2000rs.UPDATE------------------------------------pin has stopped charging from one side, now i have to slip the pin to charge from other side, but i will update and let know for how long does it work,,It’s good. Not sure about durability as the pin area feels a bit fragile,Does not support apple carplaySo was little disappointed about thatOther than that cable is made up of very good quality,Best to buy,100% NOT FATHFUL,Writing this review post 10 months and 3 orders of the same product.Honestly Portronics Konnect L lightning cable works like magic with the original Apple charging brick.Seeing the price of the cable I initially hesitated buying as it was as low as ₹99/- with the offers and so I wasn’t sure if it would work well with my iPhone 12 or whether it would impact my iPhone’s battery health because all the other lightning cable brands were costing over ₹350/- like Wayona, Amazon Basics, etc.Earlier I was using Wayona Brand lightning cable with eventually frayed and stopped working.Charging Speed:Charges my iPhone fast enough almost similar compared to the original cable level when used with 12W Original Apple power adapter.Quality and Durability:Great quality braided cable and doesn’t tangle easily and can withstand day-to-day usage.L-Shaped pin:This is very innovative by Portronics and it makes sure the cable doesn’t get damaged even if used while charging.CarPlay and Data Sync:Works smoothly with CarPlay and syncs data effortlessly.PS: I have used this cable only with the Original Apple Charging Brick and extremely satisfied with its performance.,Better than I expect the product I like that Quality and I plan to buy same type cable come with usb C to Lighting cable for emergency purpose that much I love this cable. Buy for this cable only emergency uses only since Good one,Good product and value for money",
         "https://m.media-amazon.com/images/W/WEBP_402378-T2/images/I/31VzNhhqifL._SX300_SY300_QL70_FMwebp_.jpg",
         "https://www.amazon.in/Portronics-Konnect-POR-1080-Charging-Function/dp/B08CF3B7N1/ref=sr_1_5?qid=1672909124&s=electronics&sr=1-5",
         "Computers&Accessories",
         "Accessories&Peripherals",
         "Cables&Accessories",
         "Cables|USBCables",
         "Computers&Accessories",
         "Accessories&Peripherals",
         "Cables&Accessories",
         "Cables",
         "USBCables",
         null,
         null
        ]
       ],
       "shape": {
        "columns": 23,
        "rows": 5
       }
      },
      "text/html": [
       "<div>\n",
       "<style scoped>\n",
       "    .dataframe tbody tr th:only-of-type {\n",
       "        vertical-align: middle;\n",
       "    }\n",
       "\n",
       "    .dataframe tbody tr th {\n",
       "        vertical-align: top;\n",
       "    }\n",
       "\n",
       "    .dataframe thead th {\n",
       "        text-align: right;\n",
       "    }\n",
       "</style>\n",
       "<table border=\"1\" class=\"dataframe\">\n",
       "  <thead>\n",
       "    <tr style=\"text-align: right;\">\n",
       "      <th></th>\n",
       "      <th>product_id</th>\n",
       "      <th>product_name</th>\n",
       "      <th>category</th>\n",
       "      <th>rating</th>\n",
       "      <th>about_product</th>\n",
       "      <th>user_id</th>\n",
       "      <th>user_name</th>\n",
       "      <th>review_id</th>\n",
       "      <th>review_title</th>\n",
       "      <th>review_content</th>\n",
       "      <th>...</th>\n",
       "      <th>level2</th>\n",
       "      <th>level3</th>\n",
       "      <th>level4</th>\n",
       "      <th>level1</th>\n",
       "      <th>level2</th>\n",
       "      <th>level3</th>\n",
       "      <th>level4</th>\n",
       "      <th>level5</th>\n",
       "      <th>level6</th>\n",
       "      <th>level7</th>\n",
       "    </tr>\n",
       "  </thead>\n",
       "  <tbody>\n",
       "    <tr>\n",
       "      <th>0</th>\n",
       "      <td>B07JW9H4J1</td>\n",
       "      <td>Wayona Nylon Braided USB to Lightning Fast Cha...</td>\n",
       "      <td>Computers&amp;Accessories|Accessories&amp;Peripherals|...</td>\n",
       "      <td>4.2</td>\n",
       "      <td>High Compatibility : Compatible With iPhone 12...</td>\n",
       "      <td>AG3D6O4STAQKAY2UVGEUV46KN35Q,AHMY5CWJMMK5BJRBB...</td>\n",
       "      <td>Manav,Adarsh gupta,Sundeep,S.Sayeed Ahmed,jasp...</td>\n",
       "      <td>R3HXWT0LRP0NMF,R2AJM3LFTLZHFO,R6AQJGUP6P86,R1K...</td>\n",
       "      <td>Satisfied,Charging is really fast,Value for mo...</td>\n",
       "      <td>Looks durable Charging is fine tooNo complains...</td>\n",
       "      <td>...</td>\n",
       "      <td>Accessories&amp;Peripherals</td>\n",
       "      <td>Cables&amp;Accessories</td>\n",
       "      <td>Cables|USBCables</td>\n",
       "      <td>Computers&amp;Accessories</td>\n",
       "      <td>Accessories&amp;Peripherals</td>\n",
       "      <td>Cables&amp;Accessories</td>\n",
       "      <td>Cables</td>\n",
       "      <td>USBCables</td>\n",
       "      <td>None</td>\n",
       "      <td>None</td>\n",
       "    </tr>\n",
       "    <tr>\n",
       "      <th>1</th>\n",
       "      <td>B098NS6PVG</td>\n",
       "      <td>Ambrane Unbreakable 60W / 3A Fast Charging 1.5...</td>\n",
       "      <td>Computers&amp;Accessories|Accessories&amp;Peripherals|...</td>\n",
       "      <td>4.0</td>\n",
       "      <td>Compatible with all Type C enabled devices, be...</td>\n",
       "      <td>AECPFYFQVRUWC3KGNLJIOREFP5LQ,AGYYVPDD7YG7FYNBX...</td>\n",
       "      <td>ArdKn,Nirbhay kumar,Sagar Viswanathan,Asp,Plac...</td>\n",
       "      <td>RGIQEG07R9HS2,R1SMWZQ86XIN8U,R2J3Y1WL29GWDE,RY...</td>\n",
       "      <td>A Good Braided Cable for Your Type C Device,Go...</td>\n",
       "      <td>I ordered this cable to connect my phone to An...</td>\n",
       "      <td>...</td>\n",
       "      <td>Accessories&amp;Peripherals</td>\n",
       "      <td>Cables&amp;Accessories</td>\n",
       "      <td>Cables|USBCables</td>\n",
       "      <td>Computers&amp;Accessories</td>\n",
       "      <td>Accessories&amp;Peripherals</td>\n",
       "      <td>Cables&amp;Accessories</td>\n",
       "      <td>Cables</td>\n",
       "      <td>USBCables</td>\n",
       "      <td>None</td>\n",
       "      <td>None</td>\n",
       "    </tr>\n",
       "    <tr>\n",
       "      <th>2</th>\n",
       "      <td>B096MSW6CT</td>\n",
       "      <td>Sounce Fast Phone Charging Cable &amp; Data Sync U...</td>\n",
       "      <td>Computers&amp;Accessories|Accessories&amp;Peripherals|...</td>\n",
       "      <td>3.9</td>\n",
       "      <td>【 Fast Charger&amp; Data Sync】-With built-in safet...</td>\n",
       "      <td>AGU3BBQ2V2DDAMOAKGFAWDDQ6QHA,AESFLDV2PT363T2AQ...</td>\n",
       "      <td>Kunal,Himanshu,viswanath,sai niharka,saqib mal...</td>\n",
       "      <td>R3J3EQQ9TZI5ZJ,R3E7WBGK7ID0KV,RWU79XKQ6I1QF,R2...</td>\n",
       "      <td>Good speed for earlier versions,Good Product,W...</td>\n",
       "      <td>Not quite durable and sturdy,https://m.media-a...</td>\n",
       "      <td>...</td>\n",
       "      <td>Accessories&amp;Peripherals</td>\n",
       "      <td>Cables&amp;Accessories</td>\n",
       "      <td>Cables|USBCables</td>\n",
       "      <td>Computers&amp;Accessories</td>\n",
       "      <td>Accessories&amp;Peripherals</td>\n",
       "      <td>Cables&amp;Accessories</td>\n",
       "      <td>Cables</td>\n",
       "      <td>USBCables</td>\n",
       "      <td>None</td>\n",
       "      <td>None</td>\n",
       "    </tr>\n",
       "    <tr>\n",
       "      <th>3</th>\n",
       "      <td>B08HDJ86NZ</td>\n",
       "      <td>boAt Deuce USB 300 2 in 1 Type-C &amp; Micro USB S...</td>\n",
       "      <td>Computers&amp;Accessories|Accessories&amp;Peripherals|...</td>\n",
       "      <td>4.2</td>\n",
       "      <td>The boAt Deuce USB 300 2 in 1 cable is compati...</td>\n",
       "      <td>AEWAZDZZJLQUYVOVGBEUKSLXHQ5A,AG5HTSFRRE6NL3M5S...</td>\n",
       "      <td>Omkar dhale,JD,HEMALATHA,Ajwadh a.,amar singh ...</td>\n",
       "      <td>R3EEUZKKK9J36I,R3HJVYCLYOY554,REDECAZ7AMPQC,R1...</td>\n",
       "      <td>Good product,Good one,Nice,Really nice product...</td>\n",
       "      <td>Good product,long wire,Charges good,Nice,I bou...</td>\n",
       "      <td>...</td>\n",
       "      <td>Accessories&amp;Peripherals</td>\n",
       "      <td>Cables&amp;Accessories</td>\n",
       "      <td>Cables|USBCables</td>\n",
       "      <td>Computers&amp;Accessories</td>\n",
       "      <td>Accessories&amp;Peripherals</td>\n",
       "      <td>Cables&amp;Accessories</td>\n",
       "      <td>Cables</td>\n",
       "      <td>USBCables</td>\n",
       "      <td>None</td>\n",
       "      <td>None</td>\n",
       "    </tr>\n",
       "    <tr>\n",
       "      <th>4</th>\n",
       "      <td>B08CF3B7N1</td>\n",
       "      <td>Portronics Konnect L 1.2M Fast Charging 3A 8 P...</td>\n",
       "      <td>Computers&amp;Accessories|Accessories&amp;Peripherals|...</td>\n",
       "      <td>4.2</td>\n",
       "      <td>[CHARGE &amp; SYNC FUNCTION]- This cable comes wit...</td>\n",
       "      <td>AE3Q6KSUK5P75D5HFYHCRAOLODSA,AFUGIFH5ZAFXRDSZH...</td>\n",
       "      <td>rahuls6099,Swasat Borah,Ajay Wadke,Pranali,RVK...</td>\n",
       "      <td>R1BP4L2HH9TFUP,R16PVJEXKV6QZS,R2UPDB81N66T4P,R...</td>\n",
       "      <td>As good as original,Decent,Good one for second...</td>\n",
       "      <td>Bought this instead of original apple, does th...</td>\n",
       "      <td>...</td>\n",
       "      <td>Accessories&amp;Peripherals</td>\n",
       "      <td>Cables&amp;Accessories</td>\n",
       "      <td>Cables|USBCables</td>\n",
       "      <td>Computers&amp;Accessories</td>\n",
       "      <td>Accessories&amp;Peripherals</td>\n",
       "      <td>Cables&amp;Accessories</td>\n",
       "      <td>Cables</td>\n",
       "      <td>USBCables</td>\n",
       "      <td>None</td>\n",
       "      <td>None</td>\n",
       "    </tr>\n",
       "  </tbody>\n",
       "</table>\n",
       "<p>5 rows × 23 columns</p>\n",
       "</div>"
      ],
      "text/plain": [
       "   product_id                                       product_name  \\\n",
       "0  B07JW9H4J1  Wayona Nylon Braided USB to Lightning Fast Cha...   \n",
       "1  B098NS6PVG  Ambrane Unbreakable 60W / 3A Fast Charging 1.5...   \n",
       "2  B096MSW6CT  Sounce Fast Phone Charging Cable & Data Sync U...   \n",
       "3  B08HDJ86NZ  boAt Deuce USB 300 2 in 1 Type-C & Micro USB S...   \n",
       "4  B08CF3B7N1  Portronics Konnect L 1.2M Fast Charging 3A 8 P...   \n",
       "\n",
       "                                            category  rating  \\\n",
       "0  Computers&Accessories|Accessories&Peripherals|...     4.2   \n",
       "1  Computers&Accessories|Accessories&Peripherals|...     4.0   \n",
       "2  Computers&Accessories|Accessories&Peripherals|...     3.9   \n",
       "3  Computers&Accessories|Accessories&Peripherals|...     4.2   \n",
       "4  Computers&Accessories|Accessories&Peripherals|...     4.2   \n",
       "\n",
       "                                       about_product  \\\n",
       "0  High Compatibility : Compatible With iPhone 12...   \n",
       "1  Compatible with all Type C enabled devices, be...   \n",
       "2  【 Fast Charger& Data Sync】-With built-in safet...   \n",
       "3  The boAt Deuce USB 300 2 in 1 cable is compati...   \n",
       "4  [CHARGE & SYNC FUNCTION]- This cable comes wit...   \n",
       "\n",
       "                                             user_id  \\\n",
       "0  AG3D6O4STAQKAY2UVGEUV46KN35Q,AHMY5CWJMMK5BJRBB...   \n",
       "1  AECPFYFQVRUWC3KGNLJIOREFP5LQ,AGYYVPDD7YG7FYNBX...   \n",
       "2  AGU3BBQ2V2DDAMOAKGFAWDDQ6QHA,AESFLDV2PT363T2AQ...   \n",
       "3  AEWAZDZZJLQUYVOVGBEUKSLXHQ5A,AG5HTSFRRE6NL3M5S...   \n",
       "4  AE3Q6KSUK5P75D5HFYHCRAOLODSA,AFUGIFH5ZAFXRDSZH...   \n",
       "\n",
       "                                           user_name  \\\n",
       "0  Manav,Adarsh gupta,Sundeep,S.Sayeed Ahmed,jasp...   \n",
       "1  ArdKn,Nirbhay kumar,Sagar Viswanathan,Asp,Plac...   \n",
       "2  Kunal,Himanshu,viswanath,sai niharka,saqib mal...   \n",
       "3  Omkar dhale,JD,HEMALATHA,Ajwadh a.,amar singh ...   \n",
       "4  rahuls6099,Swasat Borah,Ajay Wadke,Pranali,RVK...   \n",
       "\n",
       "                                           review_id  \\\n",
       "0  R3HXWT0LRP0NMF,R2AJM3LFTLZHFO,R6AQJGUP6P86,R1K...   \n",
       "1  RGIQEG07R9HS2,R1SMWZQ86XIN8U,R2J3Y1WL29GWDE,RY...   \n",
       "2  R3J3EQQ9TZI5ZJ,R3E7WBGK7ID0KV,RWU79XKQ6I1QF,R2...   \n",
       "3  R3EEUZKKK9J36I,R3HJVYCLYOY554,REDECAZ7AMPQC,R1...   \n",
       "4  R1BP4L2HH9TFUP,R16PVJEXKV6QZS,R2UPDB81N66T4P,R...   \n",
       "\n",
       "                                        review_title  \\\n",
       "0  Satisfied,Charging is really fast,Value for mo...   \n",
       "1  A Good Braided Cable for Your Type C Device,Go...   \n",
       "2  Good speed for earlier versions,Good Product,W...   \n",
       "3  Good product,Good one,Nice,Really nice product...   \n",
       "4  As good as original,Decent,Good one for second...   \n",
       "\n",
       "                                      review_content  ...  \\\n",
       "0  Looks durable Charging is fine tooNo complains...  ...   \n",
       "1  I ordered this cable to connect my phone to An...  ...   \n",
       "2  Not quite durable and sturdy,https://m.media-a...  ...   \n",
       "3  Good product,long wire,Charges good,Nice,I bou...  ...   \n",
       "4  Bought this instead of original apple, does th...  ...   \n",
       "\n",
       "                    level2              level3            level4  \\\n",
       "0  Accessories&Peripherals  Cables&Accessories  Cables|USBCables   \n",
       "1  Accessories&Peripherals  Cables&Accessories  Cables|USBCables   \n",
       "2  Accessories&Peripherals  Cables&Accessories  Cables|USBCables   \n",
       "3  Accessories&Peripherals  Cables&Accessories  Cables|USBCables   \n",
       "4  Accessories&Peripherals  Cables&Accessories  Cables|USBCables   \n",
       "\n",
       "                  level1                   level2              level3  level4  \\\n",
       "0  Computers&Accessories  Accessories&Peripherals  Cables&Accessories  Cables   \n",
       "1  Computers&Accessories  Accessories&Peripherals  Cables&Accessories  Cables   \n",
       "2  Computers&Accessories  Accessories&Peripherals  Cables&Accessories  Cables   \n",
       "3  Computers&Accessories  Accessories&Peripherals  Cables&Accessories  Cables   \n",
       "4  Computers&Accessories  Accessories&Peripherals  Cables&Accessories  Cables   \n",
       "\n",
       "      level5 level6 level7  \n",
       "0  USBCables   None   None  \n",
       "1  USBCables   None   None  \n",
       "2  USBCables   None   None  \n",
       "3  USBCables   None   None  \n",
       "4  USBCables   None   None  \n",
       "\n",
       "[5 rows x 23 columns]"
      ]
     },
     "execution_count": 9,
     "metadata": {},
     "output_type": "execute_result"
    }
   ],
   "source": [
    "df.head()"
   ]
  },
  {
   "cell_type": "code",
   "execution_count": 10,
   "metadata": {},
   "outputs": [
    {
     "data": {
      "application/vnd.microsoft.datawrangler.viewer.v0+json": {
       "columns": [
        {
         "name": "index",
         "rawType": "int64",
         "type": "integer"
        },
        {
         "name": "level1",
         "rawType": "object",
         "type": "string"
        },
        {
         "name": "level1",
         "rawType": "object",
         "type": "string"
        }
       ],
       "conversionMethod": "pd.DataFrame",
       "ref": "9aee979a-ff73-4d01-9ff3-bb1f854d1524",
       "rows": [
        [
         "0",
         "Computers&Accessories",
         "Computers&Accessories"
        ],
        [
         "1",
         "Computers&Accessories",
         "Computers&Accessories"
        ],
        [
         "2",
         "Computers&Accessories",
         "Computers&Accessories"
        ],
        [
         "3",
         "Computers&Accessories",
         "Computers&Accessories"
        ],
        [
         "4",
         "Computers&Accessories",
         "Computers&Accessories"
        ]
       ],
       "shape": {
        "columns": 2,
        "rows": 5
       }
      },
      "text/html": [
       "<div>\n",
       "<style scoped>\n",
       "    .dataframe tbody tr th:only-of-type {\n",
       "        vertical-align: middle;\n",
       "    }\n",
       "\n",
       "    .dataframe tbody tr th {\n",
       "        vertical-align: top;\n",
       "    }\n",
       "\n",
       "    .dataframe thead th {\n",
       "        text-align: right;\n",
       "    }\n",
       "</style>\n",
       "<table border=\"1\" class=\"dataframe\">\n",
       "  <thead>\n",
       "    <tr style=\"text-align: right;\">\n",
       "      <th></th>\n",
       "      <th>level1</th>\n",
       "      <th>level1</th>\n",
       "    </tr>\n",
       "  </thead>\n",
       "  <tbody>\n",
       "    <tr>\n",
       "      <th>0</th>\n",
       "      <td>Computers&amp;Accessories</td>\n",
       "      <td>Computers&amp;Accessories</td>\n",
       "    </tr>\n",
       "    <tr>\n",
       "      <th>1</th>\n",
       "      <td>Computers&amp;Accessories</td>\n",
       "      <td>Computers&amp;Accessories</td>\n",
       "    </tr>\n",
       "    <tr>\n",
       "      <th>2</th>\n",
       "      <td>Computers&amp;Accessories</td>\n",
       "      <td>Computers&amp;Accessories</td>\n",
       "    </tr>\n",
       "    <tr>\n",
       "      <th>3</th>\n",
       "      <td>Computers&amp;Accessories</td>\n",
       "      <td>Computers&amp;Accessories</td>\n",
       "    </tr>\n",
       "    <tr>\n",
       "      <th>4</th>\n",
       "      <td>Computers&amp;Accessories</td>\n",
       "      <td>Computers&amp;Accessories</td>\n",
       "    </tr>\n",
       "  </tbody>\n",
       "</table>\n",
       "</div>"
      ],
      "text/plain": [
       "                  level1                 level1\n",
       "0  Computers&Accessories  Computers&Accessories\n",
       "1  Computers&Accessories  Computers&Accessories\n",
       "2  Computers&Accessories  Computers&Accessories\n",
       "3  Computers&Accessories  Computers&Accessories\n",
       "4  Computers&Accessories  Computers&Accessories"
      ]
     },
     "execution_count": 10,
     "metadata": {},
     "output_type": "execute_result"
    }
   ],
   "source": [
    "df['level1'].head()  "
   ]
  },
  {
   "cell_type": "code",
   "execution_count": 11,
   "metadata": {},
   "outputs": [
    {
     "name": "stdout",
     "output_type": "stream",
     "text": [
      "level1    0\n",
      "level1    0\n",
      "dtype: int64\n"
     ]
    }
   ],
   "source": [
    "print(df['level1'].isnull().sum())"
   ]
  },
  {
   "cell_type": "code",
   "execution_count": 12,
   "metadata": {},
   "outputs": [
    {
     "name": "stdout",
     "output_type": "stream",
     "text": [
      "<class 'pandas.core.frame.DataFrame'>\n"
     ]
    }
   ],
   "source": [
    "print(type(df['level1']))"
   ]
  },
  {
   "cell_type": "code",
   "execution_count": 13,
   "metadata": {},
   "outputs": [
    {
     "name": "stdout",
     "output_type": "stream",
     "text": [
      "product_id         object\n",
      "product_name       object\n",
      "category           object\n",
      "rating            float64\n",
      "about_product      object\n",
      "user_id            object\n",
      "user_name          object\n",
      "review_id          object\n",
      "review_title       object\n",
      "review_content     object\n",
      "img_link           object\n",
      "product_link       object\n",
      "level1             object\n",
      "level2             object\n",
      "level3             object\n",
      "level4             object\n",
      "level1             object\n",
      "level2             object\n",
      "level3             object\n",
      "level4             object\n",
      "level5             object\n",
      "level6             object\n",
      "level7             object\n",
      "dtype: object\n"
     ]
    }
   ],
   "source": [
    "df['level1'] = df['level1'].astype(str)\n",
    "print(df.dtypes)"
   ]
  },
  {
   "cell_type": "code",
   "execution_count": 14,
   "metadata": {},
   "outputs": [
    {
     "name": "stdout",
     "output_type": "stream",
     "text": [
      "Index(['product_id', 'product_name', 'category', 'rating', 'about_product',\n",
      "       'user_id', 'user_name', 'review_id', 'review_title', 'review_content',\n",
      "       'img_link', 'product_link', 'level1', 'level2', 'level3', 'level4',\n",
      "       'level5', 'level6', 'level7'],\n",
      "      dtype='object')\n"
     ]
    }
   ],
   "source": [
    "df = df.loc[:, ~df.columns.duplicated()]\n",
    "print(df.columns)  \n"
   ]
  },
  {
   "cell_type": "code",
   "execution_count": 15,
   "metadata": {},
   "outputs": [
    {
     "data": {
      "application/vnd.microsoft.datawrangler.viewer.v0+json": {
       "columns": [
        {
         "name": "index",
         "rawType": "int64",
         "type": "integer"
        },
        {
         "name": "level1",
         "rawType": "object",
         "type": "string"
        },
        {
         "name": "level2",
         "rawType": "object",
         "type": "string"
        },
        {
         "name": "level3",
         "rawType": "object",
         "type": "string"
        },
        {
         "name": "level4",
         "rawType": "object",
         "type": "string"
        }
       ],
       "conversionMethod": "pd.DataFrame",
       "ref": "6fb5f73c-eb2a-48ce-a479-86fa78231a00",
       "rows": [
        [
         "0",
         "Computers&Accessories",
         "Accessories&Peripherals",
         "Cables&Accessories",
         "Cables|USBCables"
        ],
        [
         "1",
         "Computers&Accessories",
         "Accessories&Peripherals",
         "Cables&Accessories",
         "Cables|USBCables"
        ],
        [
         "2",
         "Computers&Accessories",
         "Accessories&Peripherals",
         "Cables&Accessories",
         "Cables|USBCables"
        ],
        [
         "3",
         "Computers&Accessories",
         "Accessories&Peripherals",
         "Cables&Accessories",
         "Cables|USBCables"
        ],
        [
         "4",
         "Computers&Accessories",
         "Accessories&Peripherals",
         "Cables&Accessories",
         "Cables|USBCables"
        ]
       ],
       "shape": {
        "columns": 4,
        "rows": 5
       }
      },
      "text/html": [
       "<div>\n",
       "<style scoped>\n",
       "    .dataframe tbody tr th:only-of-type {\n",
       "        vertical-align: middle;\n",
       "    }\n",
       "\n",
       "    .dataframe tbody tr th {\n",
       "        vertical-align: top;\n",
       "    }\n",
       "\n",
       "    .dataframe thead th {\n",
       "        text-align: right;\n",
       "    }\n",
       "</style>\n",
       "<table border=\"1\" class=\"dataframe\">\n",
       "  <thead>\n",
       "    <tr style=\"text-align: right;\">\n",
       "      <th></th>\n",
       "      <th>level1</th>\n",
       "      <th>level2</th>\n",
       "      <th>level3</th>\n",
       "      <th>level4</th>\n",
       "    </tr>\n",
       "  </thead>\n",
       "  <tbody>\n",
       "    <tr>\n",
       "      <th>0</th>\n",
       "      <td>Computers&amp;Accessories</td>\n",
       "      <td>Accessories&amp;Peripherals</td>\n",
       "      <td>Cables&amp;Accessories</td>\n",
       "      <td>Cables|USBCables</td>\n",
       "    </tr>\n",
       "    <tr>\n",
       "      <th>1</th>\n",
       "      <td>Computers&amp;Accessories</td>\n",
       "      <td>Accessories&amp;Peripherals</td>\n",
       "      <td>Cables&amp;Accessories</td>\n",
       "      <td>Cables|USBCables</td>\n",
       "    </tr>\n",
       "    <tr>\n",
       "      <th>2</th>\n",
       "      <td>Computers&amp;Accessories</td>\n",
       "      <td>Accessories&amp;Peripherals</td>\n",
       "      <td>Cables&amp;Accessories</td>\n",
       "      <td>Cables|USBCables</td>\n",
       "    </tr>\n",
       "    <tr>\n",
       "      <th>3</th>\n",
       "      <td>Computers&amp;Accessories</td>\n",
       "      <td>Accessories&amp;Peripherals</td>\n",
       "      <td>Cables&amp;Accessories</td>\n",
       "      <td>Cables|USBCables</td>\n",
       "    </tr>\n",
       "    <tr>\n",
       "      <th>4</th>\n",
       "      <td>Computers&amp;Accessories</td>\n",
       "      <td>Accessories&amp;Peripherals</td>\n",
       "      <td>Cables&amp;Accessories</td>\n",
       "      <td>Cables|USBCables</td>\n",
       "    </tr>\n",
       "  </tbody>\n",
       "</table>\n",
       "</div>"
      ],
      "text/plain": [
       "                  level1                   level2              level3  \\\n",
       "0  Computers&Accessories  Accessories&Peripherals  Cables&Accessories   \n",
       "1  Computers&Accessories  Accessories&Peripherals  Cables&Accessories   \n",
       "2  Computers&Accessories  Accessories&Peripherals  Cables&Accessories   \n",
       "3  Computers&Accessories  Accessories&Peripherals  Cables&Accessories   \n",
       "4  Computers&Accessories  Accessories&Peripherals  Cables&Accessories   \n",
       "\n",
       "             level4  \n",
       "0  Cables|USBCables  \n",
       "1  Cables|USBCables  \n",
       "2  Cables|USBCables  \n",
       "3  Cables|USBCables  \n",
       "4  Cables|USBCables  "
      ]
     },
     "execution_count": 15,
     "metadata": {},
     "output_type": "execute_result"
    }
   ],
   "source": [
    "df[['level1', 'level2', 'level3', 'level4']].head()\n"
   ]
  },
  {
   "cell_type": "markdown",
   "metadata": {},
   "source": [
    "Categories based insights"
   ]
  },
  {
   "cell_type": "code",
   "execution_count": 16,
   "metadata": {},
   "outputs": [
    {
     "data": {
      "image/png": "[encoded data removed]",
      "text/plain": [
       "<Figure size 640x480 with 1 Axes>"
      ]
     },
     "metadata": {},
     "output_type": "display_data"
    }
   ],
   "source": [
    "df['level1'].value_counts().plot(kind='barh', title='Top-Level Categories', color='skyblue')\n",
    "plt.xlabel('Category')\n",
    "plt.ylabel('Product Count')\n",
    "plt.xticks(rotation=90)\n",
    "plt.show()"
   ]
  },
  {
   "cell_type": "code",
   "execution_count": 17,
   "metadata": {},
   "outputs": [
    {
     "name": "stdout",
     "output_type": "stream",
     "text": [
      "Dataset with hierarchy levels saved successfully!\n"
     ]
    }
   ],
   "source": [
    "df.to_csv('amazon_sales_with_hierarchy.csv', index=False)\n",
    "print(\"Dataset with hierarchy levels saved successfully!\")\n"
   ]
  },
  {
   "cell_type": "code",
   "execution_count": null,
   "metadata": {},
   "outputs": [],
   "source": []
  }
 ],
 "metadata": {
  "kernelspec": {
   "display_name": ".venv",
   "language": "python",
   "name": "python3"
  },
  "language_info": {
   "codemirror_mode": {
    "name": "ipython",
    "version": 3
   },
   "file_extension": ".py",
   "mimetype": "text/x-python",
   "name": "python",
   "nbconvert_exporter": "python",
   "pygments_lexer": "ipython3",
   "version": "3.10.11"
  }
 },
 "nbformat": 4,
 "nbformat_minor": 2
}
